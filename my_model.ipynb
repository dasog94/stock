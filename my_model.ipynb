{
  "nbformat": 4,
  "nbformat_minor": 0,
  "metadata": {
    "colab": {
      "name": "my_model.ipynb",
      "provenance": [],
      "collapsed_sections": [],
      "authorship_tag": "ABX9TyO/tex02PzlzTrXs3vLcKUP",
      "include_colab_link": true
    },
    "kernelspec": {
      "name": "python3",
      "display_name": "Python 3"
    },
    "accelerator": "GPU"
  },
  "cells": [
    {
      "cell_type": "markdown",
      "metadata": {
        "id": "view-in-github",
        "colab_type": "text"
      },
      "source": [
        "<a href=\"https://colab.research.google.com/github/dasog94/stock/blob/master/my_model.ipynb\" target=\"_parent\"><img src=\"https://colab.research.google.com/assets/colab-badge.svg\" alt=\"Open In Colab\"/></a>"
      ]
    },
    {
      "cell_type": "code",
      "metadata": {
        "id": "Gn93v_8u7cfh",
        "colab_type": "code",
        "colab": {}
      },
      "source": [
        "import tensorflow as tf\n",
        "from tensorflow.keras.layers import *\n",
        "from tensorflow.keras import Input, Model, layers\n",
        "from tensorflow.keras import optimizers\n",
        "import os"
      ],
      "execution_count": 1,
      "outputs": []
    },
    {
      "cell_type": "code",
      "metadata": {
        "id": "s2G4_VT-usdk",
        "colab_type": "code",
        "colab": {
          "base_uri": "https://localhost:8080/",
          "height": 33
        },
        "outputId": "210f0902-d6ed-41ce-9fe9-908d1e075d03"
      },
      "source": [
        "from google.colab import drive\n",
        "drive.mount('/content/gdrive')"
      ],
      "execution_count": 2,
      "outputs": [
        {
          "output_type": "stream",
          "text": [
            "Mounted at /content/gdrive\n"
          ],
          "name": "stdout"
        }
      ]
    },
    {
      "cell_type": "code",
      "metadata": {
        "id": "iy4ozNl0vMY-",
        "colab_type": "code",
        "colab": {}
      },
      "source": [
        "import numpy as np\n",
        "import matplotlib.pyplot as plt\n",
        "import pandas as pd\n",
        "import tensorflow_datasets as tfds\n",
        "from sklearn.preprocessing import MinMaxScaler"
      ],
      "execution_count": 3,
      "outputs": []
    },
    {
      "cell_type": "markdown",
      "metadata": {
        "id": "Hgesiqg1YiNP",
        "colab_type": "text"
      },
      "source": [
        "#NASDAQ"
      ]
    },
    {
      "cell_type": "code",
      "metadata": {
        "id": "Nafpgg_IvdHG",
        "colab_type": "code",
        "colab": {}
      },
      "source": [
        "data = (pd.read_csv('/content/gdrive/My Drive/Stock_Prediction/2D-ALSTM/nasdaq100_padding.csv'))"
      ],
      "execution_count": null,
      "outputs": []
    },
    {
      "cell_type": "code",
      "metadata": {
        "id": "0h95SM2kzVVx",
        "colab_type": "code",
        "colab": {
          "base_uri": "https://localhost:8080/",
          "height": 246
        },
        "outputId": "3a768f63-b9d9-4046-fb63-a2131b0a18f2"
      },
      "source": [
        "data.head()"
      ],
      "execution_count": null,
      "outputs": [
        {
          "output_type": "execute_result",
          "data": {
            "text/html": [
              "<div>\n",
              "<style scoped>\n",
              "    .dataframe tbody tr th:only-of-type {\n",
              "        vertical-align: middle;\n",
              "    }\n",
              "\n",
              "    .dataframe tbody tr th {\n",
              "        vertical-align: top;\n",
              "    }\n",
              "\n",
              "    .dataframe thead th {\n",
              "        text-align: right;\n",
              "    }\n",
              "</style>\n",
              "<table border=\"1\" class=\"dataframe\">\n",
              "  <thead>\n",
              "    <tr style=\"text-align: right;\">\n",
              "      <th></th>\n",
              "      <th>AAL</th>\n",
              "      <th>AAPL</th>\n",
              "      <th>ADBE</th>\n",
              "      <th>ADI</th>\n",
              "      <th>ADP</th>\n",
              "      <th>ADSK</th>\n",
              "      <th>AKAM</th>\n",
              "      <th>ALXN</th>\n",
              "      <th>AMAT</th>\n",
              "      <th>AMGN</th>\n",
              "      <th>AMZN</th>\n",
              "      <th>ATVI</th>\n",
              "      <th>AVGO</th>\n",
              "      <th>BBBY</th>\n",
              "      <th>BIDU</th>\n",
              "      <th>BIIB</th>\n",
              "      <th>CA</th>\n",
              "      <th>CELG</th>\n",
              "      <th>CERN</th>\n",
              "      <th>CMCSA</th>\n",
              "      <th>COST</th>\n",
              "      <th>CSCO</th>\n",
              "      <th>CSX</th>\n",
              "      <th>CTRP</th>\n",
              "      <th>CTSH</th>\n",
              "      <th>DISCA</th>\n",
              "      <th>DISH</th>\n",
              "      <th>DLTR</th>\n",
              "      <th>EA</th>\n",
              "      <th>EBAY</th>\n",
              "      <th>ESRX</th>\n",
              "      <th>EXPE</th>\n",
              "      <th>FAST</th>\n",
              "      <th>FB</th>\n",
              "      <th>FOX</th>\n",
              "      <th>FOXA</th>\n",
              "      <th>GILD</th>\n",
              "      <th>GOOGL</th>\n",
              "      <th>INTC</th>\n",
              "      <th>JD</th>\n",
              "      <th>...</th>\n",
              "      <th>LBTYK</th>\n",
              "      <th>LRCX</th>\n",
              "      <th>MAR</th>\n",
              "      <th>MAT</th>\n",
              "      <th>MCHP</th>\n",
              "      <th>MDLZ</th>\n",
              "      <th>MSFT</th>\n",
              "      <th>MU</th>\n",
              "      <th>MXIM</th>\n",
              "      <th>MYL</th>\n",
              "      <th>NCLH</th>\n",
              "      <th>NFLX</th>\n",
              "      <th>NTAP</th>\n",
              "      <th>NVDA</th>\n",
              "      <th>NXPI</th>\n",
              "      <th>PAYX</th>\n",
              "      <th>PCAR</th>\n",
              "      <th>PYPL</th>\n",
              "      <th>QCOM</th>\n",
              "      <th>QVCA</th>\n",
              "      <th>ROST</th>\n",
              "      <th>SBUX</th>\n",
              "      <th>SIRI</th>\n",
              "      <th>STX</th>\n",
              "      <th>SWKS</th>\n",
              "      <th>SYMC</th>\n",
              "      <th>TMUS</th>\n",
              "      <th>TRIP</th>\n",
              "      <th>TSCO</th>\n",
              "      <th>TSLA</th>\n",
              "      <th>TXN</th>\n",
              "      <th>VIAB</th>\n",
              "      <th>VOD</th>\n",
              "      <th>VRTX</th>\n",
              "      <th>WBA</th>\n",
              "      <th>WDC</th>\n",
              "      <th>WFM</th>\n",
              "      <th>XLNX</th>\n",
              "      <th>YHOO</th>\n",
              "      <th>NDX</th>\n",
              "    </tr>\n",
              "  </thead>\n",
              "  <tbody>\n",
              "    <tr>\n",
              "      <th>0</th>\n",
              "      <td>35.9800</td>\n",
              "      <td>96.80</td>\n",
              "      <td>97.80</td>\n",
              "      <td>61.15</td>\n",
              "      <td>95.4000</td>\n",
              "      <td>58.180000</td>\n",
              "      <td>58.00</td>\n",
              "      <td>127.040</td>\n",
              "      <td>26.680</td>\n",
              "      <td>165.8100</td>\n",
              "      <td>742.12</td>\n",
              "      <td>42.30</td>\n",
              "      <td>161.41</td>\n",
              "      <td>44.21</td>\n",
              "      <td>159.89</td>\n",
              "      <td>286.32</td>\n",
              "      <td>34.57</td>\n",
              "      <td>106.0500</td>\n",
              "      <td>62.070000</td>\n",
              "      <td>67.34</td>\n",
              "      <td>167.60</td>\n",
              "      <td>30.790</td>\n",
              "      <td>28.3700</td>\n",
              "      <td>43.52</td>\n",
              "      <td>58.40</td>\n",
              "      <td>25.42</td>\n",
              "      <td>52.440000</td>\n",
              "      <td>96.55</td>\n",
              "      <td>76.95</td>\n",
              "      <td>30.60</td>\n",
              "      <td>76.54</td>\n",
              "      <td>117.88</td>\n",
              "      <td>41.990</td>\n",
              "      <td>121.940</td>\n",
              "      <td>27.50</td>\n",
              "      <td>26.86</td>\n",
              "      <td>84.00</td>\n",
              "      <td>756.5700</td>\n",
              "      <td>34.7700</td>\n",
              "      <td>21.8000</td>\n",
              "      <td>...</td>\n",
              "      <td>30.21</td>\n",
              "      <td>91.24</td>\n",
              "      <td>71.1100</td>\n",
              "      <td>32.78</td>\n",
              "      <td>54.78</td>\n",
              "      <td>45.690</td>\n",
              "      <td>56.515</td>\n",
              "      <td>14.0000</td>\n",
              "      <td>39.20</td>\n",
              "      <td>47.130</td>\n",
              "      <td>41.900</td>\n",
              "      <td>91.00</td>\n",
              "      <td>26.4400</td>\n",
              "      <td>56.1984</td>\n",
              "      <td>85.2300</td>\n",
              "      <td>60.740</td>\n",
              "      <td>56.170</td>\n",
              "      <td>37.7700</td>\n",
              "      <td>60.95</td>\n",
              "      <td>26.74</td>\n",
              "      <td>61.13</td>\n",
              "      <td>58.579</td>\n",
              "      <td>4.280</td>\n",
              "      <td>31.350</td>\n",
              "      <td>65.36</td>\n",
              "      <td>20.37</td>\n",
              "      <td>44.950</td>\n",
              "      <td>70.0500</td>\n",
              "      <td>91.41</td>\n",
              "      <td>227.6500</td>\n",
              "      <td>70.73</td>\n",
              "      <td>45.230</td>\n",
              "      <td>31.1701</td>\n",
              "      <td>95.270</td>\n",
              "      <td>81.365</td>\n",
              "      <td>52.16</td>\n",
              "      <td>33.95</td>\n",
              "      <td>48.61</td>\n",
              "      <td>38.010</td>\n",
              "      <td>4665.054</td>\n",
              "    </tr>\n",
              "    <tr>\n",
              "      <th>1</th>\n",
              "      <td>35.9310</td>\n",
              "      <td>96.89</td>\n",
              "      <td>97.80</td>\n",
              "      <td>61.61</td>\n",
              "      <td>95.4115</td>\n",
              "      <td>58.190000</td>\n",
              "      <td>58.12</td>\n",
              "      <td>126.060</td>\n",
              "      <td>26.730</td>\n",
              "      <td>165.9101</td>\n",
              "      <td>741.92</td>\n",
              "      <td>42.44</td>\n",
              "      <td>161.83</td>\n",
              "      <td>44.09</td>\n",
              "      <td>160.13</td>\n",
              "      <td>286.81</td>\n",
              "      <td>34.58</td>\n",
              "      <td>105.5450</td>\n",
              "      <td>61.930000</td>\n",
              "      <td>67.30</td>\n",
              "      <td>167.82</td>\n",
              "      <td>30.840</td>\n",
              "      <td>28.4625</td>\n",
              "      <td>43.52</td>\n",
              "      <td>58.33</td>\n",
              "      <td>25.41</td>\n",
              "      <td>52.110000</td>\n",
              "      <td>96.82</td>\n",
              "      <td>77.07</td>\n",
              "      <td>30.74</td>\n",
              "      <td>76.44</td>\n",
              "      <td>117.99</td>\n",
              "      <td>41.900</td>\n",
              "      <td>121.745</td>\n",
              "      <td>27.48</td>\n",
              "      <td>26.87</td>\n",
              "      <td>83.97</td>\n",
              "      <td>756.1600</td>\n",
              "      <td>34.9200</td>\n",
              "      <td>21.8500</td>\n",
              "      <td>...</td>\n",
              "      <td>30.43</td>\n",
              "      <td>91.33</td>\n",
              "      <td>70.8500</td>\n",
              "      <td>32.79</td>\n",
              "      <td>54.89</td>\n",
              "      <td>45.730</td>\n",
              "      <td>56.720</td>\n",
              "      <td>14.0000</td>\n",
              "      <td>39.37</td>\n",
              "      <td>47.150</td>\n",
              "      <td>41.810</td>\n",
              "      <td>91.16</td>\n",
              "      <td>26.4500</td>\n",
              "      <td>56.4150</td>\n",
              "      <td>86.1750</td>\n",
              "      <td>60.935</td>\n",
              "      <td>56.850</td>\n",
              "      <td>37.7400</td>\n",
              "      <td>60.92</td>\n",
              "      <td>26.72</td>\n",
              "      <td>61.43</td>\n",
              "      <td>58.480</td>\n",
              "      <td>4.270</td>\n",
              "      <td>31.010</td>\n",
              "      <td>65.25</td>\n",
              "      <td>20.41</td>\n",
              "      <td>44.975</td>\n",
              "      <td>70.2300</td>\n",
              "      <td>91.05</td>\n",
              "      <td>227.0967</td>\n",
              "      <td>70.69</td>\n",
              "      <td>45.010</td>\n",
              "      <td>31.1900</td>\n",
              "      <td>94.170</td>\n",
              "      <td>81.540</td>\n",
              "      <td>52.15</td>\n",
              "      <td>34.10</td>\n",
              "      <td>48.74</td>\n",
              "      <td>38.140</td>\n",
              "      <td>4665.054</td>\n",
              "    </tr>\n",
              "    <tr>\n",
              "      <th>2</th>\n",
              "      <td>35.9044</td>\n",
              "      <td>96.95</td>\n",
              "      <td>97.57</td>\n",
              "      <td>61.98</td>\n",
              "      <td>95.5100</td>\n",
              "      <td>58.203333</td>\n",
              "      <td>57.95</td>\n",
              "      <td>126.510</td>\n",
              "      <td>26.712</td>\n",
              "      <td>166.1800</td>\n",
              "      <td>739.60</td>\n",
              "      <td>42.46</td>\n",
              "      <td>162.50</td>\n",
              "      <td>43.86</td>\n",
              "      <td>160.00</td>\n",
              "      <td>286.13</td>\n",
              "      <td>34.59</td>\n",
              "      <td>106.5787</td>\n",
              "      <td>61.916667</td>\n",
              "      <td>67.23</td>\n",
              "      <td>167.96</td>\n",
              "      <td>30.880</td>\n",
              "      <td>28.3900</td>\n",
              "      <td>43.54</td>\n",
              "      <td>58.34</td>\n",
              "      <td>25.38</td>\n",
              "      <td>52.106667</td>\n",
              "      <td>96.89</td>\n",
              "      <td>77.25</td>\n",
              "      <td>30.80</td>\n",
              "      <td>76.09</td>\n",
              "      <td>118.63</td>\n",
              "      <td>41.735</td>\n",
              "      <td>121.452</td>\n",
              "      <td>27.41</td>\n",
              "      <td>26.82</td>\n",
              "      <td>84.00</td>\n",
              "      <td>755.6200</td>\n",
              "      <td>34.9192</td>\n",
              "      <td>21.7700</td>\n",
              "      <td>...</td>\n",
              "      <td>30.17</td>\n",
              "      <td>91.37</td>\n",
              "      <td>70.7800</td>\n",
              "      <td>32.83</td>\n",
              "      <td>55.14</td>\n",
              "      <td>45.800</td>\n",
              "      <td>56.700</td>\n",
              "      <td>14.0056</td>\n",
              "      <td>39.38</td>\n",
              "      <td>47.130</td>\n",
              "      <td>41.865</td>\n",
              "      <td>91.36</td>\n",
              "      <td>26.3900</td>\n",
              "      <td>56.4900</td>\n",
              "      <td>85.6801</td>\n",
              "      <td>61.000</td>\n",
              "      <td>57.500</td>\n",
              "      <td>37.7117</td>\n",
              "      <td>61.03</td>\n",
              "      <td>26.66</td>\n",
              "      <td>61.55</td>\n",
              "      <td>58.510</td>\n",
              "      <td>4.285</td>\n",
              "      <td>31.195</td>\n",
              "      <td>65.41</td>\n",
              "      <td>20.39</td>\n",
              "      <td>44.810</td>\n",
              "      <td>70.0925</td>\n",
              "      <td>91.18</td>\n",
              "      <td>226.6300</td>\n",
              "      <td>71.30</td>\n",
              "      <td>45.015</td>\n",
              "      <td>31.2100</td>\n",
              "      <td>94.749</td>\n",
              "      <td>81.530</td>\n",
              "      <td>52.27</td>\n",
              "      <td>34.01</td>\n",
              "      <td>48.99</td>\n",
              "      <td>38.150</td>\n",
              "      <td>4665.826</td>\n",
              "    </tr>\n",
              "    <tr>\n",
              "      <th>3</th>\n",
              "      <td>35.8900</td>\n",
              "      <td>96.97</td>\n",
              "      <td>97.55</td>\n",
              "      <td>62.09</td>\n",
              "      <td>95.5200</td>\n",
              "      <td>58.216667</td>\n",
              "      <td>57.96</td>\n",
              "      <td>126.280</td>\n",
              "      <td>26.740</td>\n",
              "      <td>166.1480</td>\n",
              "      <td>739.55</td>\n",
              "      <td>42.52</td>\n",
              "      <td>162.68</td>\n",
              "      <td>43.80</td>\n",
              "      <td>160.12</td>\n",
              "      <td>286.80</td>\n",
              "      <td>34.61</td>\n",
              "      <td>106.3500</td>\n",
              "      <td>61.903333</td>\n",
              "      <td>67.38</td>\n",
              "      <td>167.85</td>\n",
              "      <td>30.890</td>\n",
              "      <td>28.3900</td>\n",
              "      <td>43.55</td>\n",
              "      <td>58.54</td>\n",
              "      <td>25.37</td>\n",
              "      <td>52.103333</td>\n",
              "      <td>96.76</td>\n",
              "      <td>76.96</td>\n",
              "      <td>30.86</td>\n",
              "      <td>75.65</td>\n",
              "      <td>118.57</td>\n",
              "      <td>41.710</td>\n",
              "      <td>121.450</td>\n",
              "      <td>27.42</td>\n",
              "      <td>26.87</td>\n",
              "      <td>83.34</td>\n",
              "      <td>756.3599</td>\n",
              "      <td>34.9510</td>\n",
              "      <td>21.8100</td>\n",
              "      <td>...</td>\n",
              "      <td>30.10</td>\n",
              "      <td>91.42</td>\n",
              "      <td>70.8750</td>\n",
              "      <td>32.86</td>\n",
              "      <td>55.31</td>\n",
              "      <td>45.790</td>\n",
              "      <td>56.690</td>\n",
              "      <td>14.0573</td>\n",
              "      <td>39.42</td>\n",
              "      <td>47.115</td>\n",
              "      <td>41.920</td>\n",
              "      <td>92.28</td>\n",
              "      <td>26.3955</td>\n",
              "      <td>56.5335</td>\n",
              "      <td>85.6650</td>\n",
              "      <td>61.008</td>\n",
              "      <td>57.750</td>\n",
              "      <td>37.8250</td>\n",
              "      <td>61.13</td>\n",
              "      <td>26.73</td>\n",
              "      <td>61.50</td>\n",
              "      <td>58.470</td>\n",
              "      <td>4.280</td>\n",
              "      <td>31.140</td>\n",
              "      <td>65.24</td>\n",
              "      <td>20.37</td>\n",
              "      <td>44.690</td>\n",
              "      <td>69.9550</td>\n",
              "      <td>91.28</td>\n",
              "      <td>227.5300</td>\n",
              "      <td>71.31</td>\n",
              "      <td>45.020</td>\n",
              "      <td>31.2100</td>\n",
              "      <td>94.310</td>\n",
              "      <td>81.710</td>\n",
              "      <td>52.30</td>\n",
              "      <td>33.96</td>\n",
              "      <td>48.95</td>\n",
              "      <td>38.195</td>\n",
              "      <td>4667.081</td>\n",
              "    </tr>\n",
              "    <tr>\n",
              "      <th>4</th>\n",
              "      <td>36.0080</td>\n",
              "      <td>96.96</td>\n",
              "      <td>97.73</td>\n",
              "      <td>61.89</td>\n",
              "      <td>95.5300</td>\n",
              "      <td>58.230000</td>\n",
              "      <td>58.21</td>\n",
              "      <td>126.585</td>\n",
              "      <td>26.720</td>\n",
              "      <td>165.9900</td>\n",
              "      <td>738.72</td>\n",
              "      <td>42.61</td>\n",
              "      <td>162.75</td>\n",
              "      <td>43.92</td>\n",
              "      <td>160.86</td>\n",
              "      <td>286.42</td>\n",
              "      <td>34.62</td>\n",
              "      <td>106.0000</td>\n",
              "      <td>61.890000</td>\n",
              "      <td>67.30</td>\n",
              "      <td>168.44</td>\n",
              "      <td>30.875</td>\n",
              "      <td>28.3900</td>\n",
              "      <td>43.63</td>\n",
              "      <td>58.56</td>\n",
              "      <td>25.32</td>\n",
              "      <td>52.100000</td>\n",
              "      <td>96.76</td>\n",
              "      <td>77.03</td>\n",
              "      <td>30.89</td>\n",
              "      <td>76.50</td>\n",
              "      <td>118.42</td>\n",
              "      <td>41.820</td>\n",
              "      <td>121.380</td>\n",
              "      <td>27.40</td>\n",
              "      <td>26.83</td>\n",
              "      <td>82.48</td>\n",
              "      <td>755.6700</td>\n",
              "      <td>34.9500</td>\n",
              "      <td>21.8593</td>\n",
              "      <td>...</td>\n",
              "      <td>30.12</td>\n",
              "      <td>91.45</td>\n",
              "      <td>71.1299</td>\n",
              "      <td>32.86</td>\n",
              "      <td>55.28</td>\n",
              "      <td>45.765</td>\n",
              "      <td>56.690</td>\n",
              "      <td>14.0701</td>\n",
              "      <td>39.54</td>\n",
              "      <td>47.010</td>\n",
              "      <td>41.920</td>\n",
              "      <td>91.86</td>\n",
              "      <td>26.4010</td>\n",
              "      <td>56.5200</td>\n",
              "      <td>85.8700</td>\n",
              "      <td>61.110</td>\n",
              "      <td>57.165</td>\n",
              "      <td>37.7972</td>\n",
              "      <td>61.16</td>\n",
              "      <td>26.68</td>\n",
              "      <td>61.42</td>\n",
              "      <td>58.490</td>\n",
              "      <td>4.215</td>\n",
              "      <td>31.050</td>\n",
              "      <td>65.33</td>\n",
              "      <td>20.36</td>\n",
              "      <td>44.610</td>\n",
              "      <td>69.7401</td>\n",
              "      <td>91.16</td>\n",
              "      <td>227.1250</td>\n",
              "      <td>71.06</td>\n",
              "      <td>45.050</td>\n",
              "      <td>31.1800</td>\n",
              "      <td>94.155</td>\n",
              "      <td>81.720</td>\n",
              "      <td>52.30</td>\n",
              "      <td>34.17</td>\n",
              "      <td>48.89</td>\n",
              "      <td>38.320</td>\n",
              "      <td>4664.491</td>\n",
              "    </tr>\n",
              "  </tbody>\n",
              "</table>\n",
              "<p>5 rows × 82 columns</p>\n",
              "</div>"
            ],
            "text/plain": [
              "       AAL   AAPL   ADBE    ADI      ADP  ...    WDC    WFM   XLNX    YHOO       NDX\n",
              "0  35.9800  96.80  97.80  61.15  95.4000  ...  52.16  33.95  48.61  38.010  4665.054\n",
              "1  35.9310  96.89  97.80  61.61  95.4115  ...  52.15  34.10  48.74  38.140  4665.054\n",
              "2  35.9044  96.95  97.57  61.98  95.5100  ...  52.27  34.01  48.99  38.150  4665.826\n",
              "3  35.8900  96.97  97.55  62.09  95.5200  ...  52.30  33.96  48.95  38.195  4667.081\n",
              "4  36.0080  96.96  97.73  61.89  95.5300  ...  52.30  34.17  48.89  38.320  4664.491\n",
              "\n",
              "[5 rows x 82 columns]"
            ]
          },
          "metadata": {
            "tags": []
          },
          "execution_count": 5
        }
      ]
    },
    {
      "cell_type": "code",
      "metadata": {
        "id": "SBcx2xp1zhxV",
        "colab_type": "code",
        "colab": {
          "base_uri": "https://localhost:8080/",
          "height": 1000
        },
        "outputId": "47a2e469-1172-4e27-ceed-7d0885349a3b"
      },
      "source": [
        "data.info()"
      ],
      "execution_count": null,
      "outputs": [
        {
          "output_type": "stream",
          "text": [
            "<class 'pandas.core.frame.DataFrame'>\n",
            "Int64Index: 40560 entries, 0 to 40559\n",
            "Data columns (total 82 columns):\n",
            " #   Column  Non-Null Count  Dtype  \n",
            "---  ------  --------------  -----  \n",
            " 0   AAL     40560 non-null  float64\n",
            " 1   AAPL    40560 non-null  float64\n",
            " 2   ADBE    40560 non-null  float64\n",
            " 3   ADI     40560 non-null  float64\n",
            " 4   ADP     40560 non-null  float64\n",
            " 5   ADSK    40560 non-null  float64\n",
            " 6   AKAM    40560 non-null  float64\n",
            " 7   ALXN    40560 non-null  float64\n",
            " 8   AMAT    40560 non-null  float64\n",
            " 9   AMGN    40560 non-null  float64\n",
            " 10  AMZN    40560 non-null  float64\n",
            " 11  ATVI    40560 non-null  float64\n",
            " 12  AVGO    40560 non-null  float64\n",
            " 13  BBBY    40560 non-null  float64\n",
            " 14  BIDU    40560 non-null  float64\n",
            " 15  BIIB    40560 non-null  float64\n",
            " 16  CA      40560 non-null  float64\n",
            " 17  CELG    40560 non-null  float64\n",
            " 18  CERN    40560 non-null  float64\n",
            " 19  CMCSA   40560 non-null  float64\n",
            " 20  COST    40560 non-null  float64\n",
            " 21  CSCO    40560 non-null  float64\n",
            " 22  CSX     40560 non-null  float64\n",
            " 23  CTRP    40560 non-null  float64\n",
            " 24  CTSH    40560 non-null  float64\n",
            " 25  DISCA   40560 non-null  float64\n",
            " 26  DISH    40560 non-null  float64\n",
            " 27  DLTR    40560 non-null  float64\n",
            " 28  EA      40560 non-null  float64\n",
            " 29  EBAY    40560 non-null  float64\n",
            " 30  ESRX    40560 non-null  float64\n",
            " 31  EXPE    40560 non-null  float64\n",
            " 32  FAST    40560 non-null  float64\n",
            " 33  FB      40560 non-null  float64\n",
            " 34  FOX     40560 non-null  float64\n",
            " 35  FOXA    40560 non-null  float64\n",
            " 36  GILD    40560 non-null  float64\n",
            " 37  GOOGL   40560 non-null  float64\n",
            " 38  INTC    40560 non-null  float64\n",
            " 39  JD      40560 non-null  float64\n",
            " 40  KHC     40560 non-null  float64\n",
            " 41  LBTYA   40560 non-null  float64\n",
            " 42  LBTYK   40560 non-null  float64\n",
            " 43  LRCX    40560 non-null  float64\n",
            " 44  MAR     40560 non-null  float64\n",
            " 45  MAT     40560 non-null  float64\n",
            " 46  MCHP    40560 non-null  float64\n",
            " 47  MDLZ    40560 non-null  float64\n",
            " 48  MSFT    40560 non-null  float64\n",
            " 49  MU      40560 non-null  float64\n",
            " 50  MXIM    40560 non-null  float64\n",
            " 51  MYL     40560 non-null  float64\n",
            " 52  NCLH    40560 non-null  float64\n",
            " 53  NFLX    40560 non-null  float64\n",
            " 54  NTAP    40560 non-null  float64\n",
            " 55  NVDA    40560 non-null  float64\n",
            " 56  NXPI    40560 non-null  float64\n",
            " 57  PAYX    40560 non-null  float64\n",
            " 58  PCAR    40560 non-null  float64\n",
            " 59  PYPL    40560 non-null  float64\n",
            " 60  QCOM    40560 non-null  float64\n",
            " 61  QVCA    40560 non-null  float64\n",
            " 62  ROST    40560 non-null  float64\n",
            " 63  SBUX    40560 non-null  float64\n",
            " 64  SIRI    40560 non-null  float64\n",
            " 65  STX     40560 non-null  float64\n",
            " 66  SWKS    40560 non-null  float64\n",
            " 67  SYMC    40560 non-null  float64\n",
            " 68  TMUS    40560 non-null  float64\n",
            " 69  TRIP    40560 non-null  float64\n",
            " 70  TSCO    40560 non-null  float64\n",
            " 71  TSLA    40560 non-null  float64\n",
            " 72  TXN     40560 non-null  float64\n",
            " 73  VIAB    40560 non-null  float64\n",
            " 74  VOD     40560 non-null  float64\n",
            " 75  VRTX    40560 non-null  float64\n",
            " 76  WBA     40560 non-null  float64\n",
            " 77  WDC     40560 non-null  float64\n",
            " 78  WFM     40560 non-null  float64\n",
            " 79  XLNX    40560 non-null  float64\n",
            " 80  YHOO    40560 non-null  float64\n",
            " 81  NDX     40560 non-null  float64\n",
            "dtypes: float64(82)\n",
            "memory usage: 25.7 MB\n"
          ],
          "name": "stdout"
        }
      ]
    },
    {
      "cell_type": "code",
      "metadata": {
        "id": "T_5DozNwzndy",
        "colab_type": "code",
        "colab": {}
      },
      "source": [
        "data=data.dropna(axis=0)"
      ],
      "execution_count": null,
      "outputs": []
    },
    {
      "cell_type": "code",
      "metadata": {
        "id": "EY2hZsyD0Pe6",
        "colab_type": "code",
        "colab": {
          "base_uri": "https://localhost:8080/",
          "height": 1000
        },
        "outputId": "9906d21d-24dd-4fe0-fe41-60ed044515a1"
      },
      "source": [
        "data.info()"
      ],
      "execution_count": null,
      "outputs": [
        {
          "output_type": "stream",
          "text": [
            "<class 'pandas.core.frame.DataFrame'>\n",
            "Int64Index: 40560 entries, 0 to 40559\n",
            "Data columns (total 82 columns):\n",
            " #   Column  Non-Null Count  Dtype  \n",
            "---  ------  --------------  -----  \n",
            " 0   AAL     40560 non-null  float64\n",
            " 1   AAPL    40560 non-null  float64\n",
            " 2   ADBE    40560 non-null  float64\n",
            " 3   ADI     40560 non-null  float64\n",
            " 4   ADP     40560 non-null  float64\n",
            " 5   ADSK    40560 non-null  float64\n",
            " 6   AKAM    40560 non-null  float64\n",
            " 7   ALXN    40560 non-null  float64\n",
            " 8   AMAT    40560 non-null  float64\n",
            " 9   AMGN    40560 non-null  float64\n",
            " 10  AMZN    40560 non-null  float64\n",
            " 11  ATVI    40560 non-null  float64\n",
            " 12  AVGO    40560 non-null  float64\n",
            " 13  BBBY    40560 non-null  float64\n",
            " 14  BIDU    40560 non-null  float64\n",
            " 15  BIIB    40560 non-null  float64\n",
            " 16  CA      40560 non-null  float64\n",
            " 17  CELG    40560 non-null  float64\n",
            " 18  CERN    40560 non-null  float64\n",
            " 19  CMCSA   40560 non-null  float64\n",
            " 20  COST    40560 non-null  float64\n",
            " 21  CSCO    40560 non-null  float64\n",
            " 22  CSX     40560 non-null  float64\n",
            " 23  CTRP    40560 non-null  float64\n",
            " 24  CTSH    40560 non-null  float64\n",
            " 25  DISCA   40560 non-null  float64\n",
            " 26  DISH    40560 non-null  float64\n",
            " 27  DLTR    40560 non-null  float64\n",
            " 28  EA      40560 non-null  float64\n",
            " 29  EBAY    40560 non-null  float64\n",
            " 30  ESRX    40560 non-null  float64\n",
            " 31  EXPE    40560 non-null  float64\n",
            " 32  FAST    40560 non-null  float64\n",
            " 33  FB      40560 non-null  float64\n",
            " 34  FOX     40560 non-null  float64\n",
            " 35  FOXA    40560 non-null  float64\n",
            " 36  GILD    40560 non-null  float64\n",
            " 37  GOOGL   40560 non-null  float64\n",
            " 38  INTC    40560 non-null  float64\n",
            " 39  JD      40560 non-null  float64\n",
            " 40  KHC     40560 non-null  float64\n",
            " 41  LBTYA   40560 non-null  float64\n",
            " 42  LBTYK   40560 non-null  float64\n",
            " 43  LRCX    40560 non-null  float64\n",
            " 44  MAR     40560 non-null  float64\n",
            " 45  MAT     40560 non-null  float64\n",
            " 46  MCHP    40560 non-null  float64\n",
            " 47  MDLZ    40560 non-null  float64\n",
            " 48  MSFT    40560 non-null  float64\n",
            " 49  MU      40560 non-null  float64\n",
            " 50  MXIM    40560 non-null  float64\n",
            " 51  MYL     40560 non-null  float64\n",
            " 52  NCLH    40560 non-null  float64\n",
            " 53  NFLX    40560 non-null  float64\n",
            " 54  NTAP    40560 non-null  float64\n",
            " 55  NVDA    40560 non-null  float64\n",
            " 56  NXPI    40560 non-null  float64\n",
            " 57  PAYX    40560 non-null  float64\n",
            " 58  PCAR    40560 non-null  float64\n",
            " 59  PYPL    40560 non-null  float64\n",
            " 60  QCOM    40560 non-null  float64\n",
            " 61  QVCA    40560 non-null  float64\n",
            " 62  ROST    40560 non-null  float64\n",
            " 63  SBUX    40560 non-null  float64\n",
            " 64  SIRI    40560 non-null  float64\n",
            " 65  STX     40560 non-null  float64\n",
            " 66  SWKS    40560 non-null  float64\n",
            " 67  SYMC    40560 non-null  float64\n",
            " 68  TMUS    40560 non-null  float64\n",
            " 69  TRIP    40560 non-null  float64\n",
            " 70  TSCO    40560 non-null  float64\n",
            " 71  TSLA    40560 non-null  float64\n",
            " 72  TXN     40560 non-null  float64\n",
            " 73  VIAB    40560 non-null  float64\n",
            " 74  VOD     40560 non-null  float64\n",
            " 75  VRTX    40560 non-null  float64\n",
            " 76  WBA     40560 non-null  float64\n",
            " 77  WDC     40560 non-null  float64\n",
            " 78  WFM     40560 non-null  float64\n",
            " 79  XLNX    40560 non-null  float64\n",
            " 80  YHOO    40560 non-null  float64\n",
            " 81  NDX     40560 non-null  float64\n",
            "dtypes: float64(82)\n",
            "memory usage: 25.7 MB\n"
          ],
          "name": "stdout"
        }
      ]
    },
    {
      "cell_type": "code",
      "metadata": {
        "id": "JV6M8cDJ0Yc-",
        "colab_type": "code",
        "colab": {
          "base_uri": "https://localhost:8080/",
          "height": 584
        },
        "outputId": "f53ad9ed-d776-4b01-e1f6-d871547a0957"
      },
      "source": [
        "plt.figure(figsize=(18, 9))\n",
        "plt.plot(range(data.shape[0]),(data['NDX']))\n",
        "plt.title('NDX', fontsize = 27)\n",
        "plt.xlabel(\"Date\", fontsize=18)\n",
        "plt.ylabel(\"Close\", fontsize=18)\n",
        "plt.show()"
      ],
      "execution_count": null,
      "outputs": [
        {
          "output_type": "display_data",
          "data": {
            "image/png": "[encoded data removed]",
            "text/plain": [
              "<Figure size 1296x648 with 1 Axes>"
            ]
          },
          "metadata": {
            "tags": [],
            "needs_background": "light"
          }
        }
      ]
    },
    {
      "cell_type": "code",
      "metadata": {
        "id": "rfjPAj-QgmDo",
        "colab_type": "code",
        "colab": {}
      },
      "source": [
        "# scaler = MinMaxScaler()\n",
        "# scaler.fit_transform(data)"
      ],
      "execution_count": null,
      "outputs": []
    },
    {
      "cell_type": "code",
      "metadata": {
        "id": "QwX654QO16-K",
        "colab_type": "code",
        "colab": {
          "base_uri": "https://localhost:8080/",
          "height": 33
        },
        "outputId": "ca7cb4d0-5ac1-44e4-8a93-749e50c7cbd5"
      },
      "source": [
        "times = sorted(data.index.values)\n",
        "last_30 = sorted(data.index.values)[-int(0.3*len(times))]\n",
        "\n",
        "print(last_30)\n",
        "test_df = data[(data.index >= last_30)] #val쪼개기전\n",
        "\n",
        "\n",
        "\n",
        "train_df = data[(data.index < last_30)]\n",
        "val_df = test_df[:len(test_df)//2]\n",
        "test_df = test_df[len(test_df)//2:]"
      ],
      "execution_count": null,
      "outputs": [
        {
          "output_type": "stream",
          "text": [
            "28392\n"
          ],
          "name": "stdout"
        }
      ]
    },
    {
      "cell_type": "code",
      "metadata": {
        "id": "OFOr6zWmycZ0",
        "colab_type": "code",
        "colab": {
          "base_uri": "https://localhost:8080/",
          "height": 246
        },
        "outputId": "3dfb98c0-ce6e-4de5-ea1f-fd10dfd5d403"
      },
      "source": [
        "train_df.head()"
      ],
      "execution_count": null,
      "outputs": [
        {
          "output_type": "execute_result",
          "data": {
            "text/html": [
              "<div>\n",
              "<style scoped>\n",
              "    .dataframe tbody tr th:only-of-type {\n",
              "        vertical-align: middle;\n",
              "    }\n",
              "\n",
              "    .dataframe tbody tr th {\n",
              "        vertical-align: top;\n",
              "    }\n",
              "\n",
              "    .dataframe thead th {\n",
              "        text-align: right;\n",
              "    }\n",
              "</style>\n",
              "<table border=\"1\" class=\"dataframe\">\n",
              "  <thead>\n",
              "    <tr style=\"text-align: right;\">\n",
              "      <th></th>\n",
              "      <th>AAL</th>\n",
              "      <th>AAPL</th>\n",
              "      <th>ADBE</th>\n",
              "      <th>ADI</th>\n",
              "      <th>ADP</th>\n",
              "      <th>ADSK</th>\n",
              "      <th>AKAM</th>\n",
              "      <th>ALXN</th>\n",
              "      <th>AMAT</th>\n",
              "      <th>AMGN</th>\n",
              "      <th>AMZN</th>\n",
              "      <th>ATVI</th>\n",
              "      <th>AVGO</th>\n",
              "      <th>BBBY</th>\n",
              "      <th>BIDU</th>\n",
              "      <th>BIIB</th>\n",
              "      <th>CA</th>\n",
              "      <th>CELG</th>\n",
              "      <th>CERN</th>\n",
              "      <th>CMCSA</th>\n",
              "      <th>COST</th>\n",
              "      <th>CSCO</th>\n",
              "      <th>CSX</th>\n",
              "      <th>CTRP</th>\n",
              "      <th>CTSH</th>\n",
              "      <th>DISCA</th>\n",
              "      <th>DISH</th>\n",
              "      <th>DLTR</th>\n",
              "      <th>EA</th>\n",
              "      <th>EBAY</th>\n",
              "      <th>ESRX</th>\n",
              "      <th>EXPE</th>\n",
              "      <th>FAST</th>\n",
              "      <th>FB</th>\n",
              "      <th>FOX</th>\n",
              "      <th>FOXA</th>\n",
              "      <th>GILD</th>\n",
              "      <th>GOOGL</th>\n",
              "      <th>INTC</th>\n",
              "      <th>JD</th>\n",
              "      <th>...</th>\n",
              "      <th>LBTYK</th>\n",
              "      <th>LRCX</th>\n",
              "      <th>MAR</th>\n",
              "      <th>MAT</th>\n",
              "      <th>MCHP</th>\n",
              "      <th>MDLZ</th>\n",
              "      <th>MSFT</th>\n",
              "      <th>MU</th>\n",
              "      <th>MXIM</th>\n",
              "      <th>MYL</th>\n",
              "      <th>NCLH</th>\n",
              "      <th>NFLX</th>\n",
              "      <th>NTAP</th>\n",
              "      <th>NVDA</th>\n",
              "      <th>NXPI</th>\n",
              "      <th>PAYX</th>\n",
              "      <th>PCAR</th>\n",
              "      <th>PYPL</th>\n",
              "      <th>QCOM</th>\n",
              "      <th>QVCA</th>\n",
              "      <th>ROST</th>\n",
              "      <th>SBUX</th>\n",
              "      <th>SIRI</th>\n",
              "      <th>STX</th>\n",
              "      <th>SWKS</th>\n",
              "      <th>SYMC</th>\n",
              "      <th>TMUS</th>\n",
              "      <th>TRIP</th>\n",
              "      <th>TSCO</th>\n",
              "      <th>TSLA</th>\n",
              "      <th>TXN</th>\n",
              "      <th>VIAB</th>\n",
              "      <th>VOD</th>\n",
              "      <th>VRTX</th>\n",
              "      <th>WBA</th>\n",
              "      <th>WDC</th>\n",
              "      <th>WFM</th>\n",
              "      <th>XLNX</th>\n",
              "      <th>YHOO</th>\n",
              "      <th>NDX</th>\n",
              "    </tr>\n",
              "  </thead>\n",
              "  <tbody>\n",
              "    <tr>\n",
              "      <th>0</th>\n",
              "      <td>35.9800</td>\n",
              "      <td>96.80</td>\n",
              "      <td>97.80</td>\n",
              "      <td>61.15</td>\n",
              "      <td>95.4000</td>\n",
              "      <td>58.180000</td>\n",
              "      <td>58.00</td>\n",
              "      <td>127.040</td>\n",
              "      <td>26.680</td>\n",
              "      <td>165.8100</td>\n",
              "      <td>742.12</td>\n",
              "      <td>42.30</td>\n",
              "      <td>161.41</td>\n",
              "      <td>44.21</td>\n",
              "      <td>159.89</td>\n",
              "      <td>286.32</td>\n",
              "      <td>34.57</td>\n",
              "      <td>106.0500</td>\n",
              "      <td>62.070000</td>\n",
              "      <td>67.34</td>\n",
              "      <td>167.60</td>\n",
              "      <td>30.790</td>\n",
              "      <td>28.3700</td>\n",
              "      <td>43.52</td>\n",
              "      <td>58.40</td>\n",
              "      <td>25.42</td>\n",
              "      <td>52.440000</td>\n",
              "      <td>96.55</td>\n",
              "      <td>76.95</td>\n",
              "      <td>30.60</td>\n",
              "      <td>76.54</td>\n",
              "      <td>117.88</td>\n",
              "      <td>41.990</td>\n",
              "      <td>121.940</td>\n",
              "      <td>27.50</td>\n",
              "      <td>26.86</td>\n",
              "      <td>84.00</td>\n",
              "      <td>756.5700</td>\n",
              "      <td>34.7700</td>\n",
              "      <td>21.8000</td>\n",
              "      <td>...</td>\n",
              "      <td>30.21</td>\n",
              "      <td>91.24</td>\n",
              "      <td>71.1100</td>\n",
              "      <td>32.78</td>\n",
              "      <td>54.78</td>\n",
              "      <td>45.690</td>\n",
              "      <td>56.515</td>\n",
              "      <td>14.0000</td>\n",
              "      <td>39.20</td>\n",
              "      <td>47.130</td>\n",
              "      <td>41.900</td>\n",
              "      <td>91.00</td>\n",
              "      <td>26.4400</td>\n",
              "      <td>56.1984</td>\n",
              "      <td>85.2300</td>\n",
              "      <td>60.740</td>\n",
              "      <td>56.170</td>\n",
              "      <td>37.7700</td>\n",
              "      <td>60.95</td>\n",
              "      <td>26.74</td>\n",
              "      <td>61.13</td>\n",
              "      <td>58.579</td>\n",
              "      <td>4.280</td>\n",
              "      <td>31.350</td>\n",
              "      <td>65.36</td>\n",
              "      <td>20.37</td>\n",
              "      <td>44.950</td>\n",
              "      <td>70.0500</td>\n",
              "      <td>91.41</td>\n",
              "      <td>227.6500</td>\n",
              "      <td>70.73</td>\n",
              "      <td>45.230</td>\n",
              "      <td>31.1701</td>\n",
              "      <td>95.270</td>\n",
              "      <td>81.365</td>\n",
              "      <td>52.16</td>\n",
              "      <td>33.95</td>\n",
              "      <td>48.61</td>\n",
              "      <td>38.010</td>\n",
              "      <td>4665.054</td>\n",
              "    </tr>\n",
              "    <tr>\n",
              "      <th>1</th>\n",
              "      <td>35.9310</td>\n",
              "      <td>96.89</td>\n",
              "      <td>97.80</td>\n",
              "      <td>61.61</td>\n",
              "      <td>95.4115</td>\n",
              "      <td>58.190000</td>\n",
              "      <td>58.12</td>\n",
              "      <td>126.060</td>\n",
              "      <td>26.730</td>\n",
              "      <td>165.9101</td>\n",
              "      <td>741.92</td>\n",
              "      <td>42.44</td>\n",
              "      <td>161.83</td>\n",
              "      <td>44.09</td>\n",
              "      <td>160.13</td>\n",
              "      <td>286.81</td>\n",
              "      <td>34.58</td>\n",
              "      <td>105.5450</td>\n",
              "      <td>61.930000</td>\n",
              "      <td>67.30</td>\n",
              "      <td>167.82</td>\n",
              "      <td>30.840</td>\n",
              "      <td>28.4625</td>\n",
              "      <td>43.52</td>\n",
              "      <td>58.33</td>\n",
              "      <td>25.41</td>\n",
              "      <td>52.110000</td>\n",
              "      <td>96.82</td>\n",
              "      <td>77.07</td>\n",
              "      <td>30.74</td>\n",
              "      <td>76.44</td>\n",
              "      <td>117.99</td>\n",
              "      <td>41.900</td>\n",
              "      <td>121.745</td>\n",
              "      <td>27.48</td>\n",
              "      <td>26.87</td>\n",
              "      <td>83.97</td>\n",
              "      <td>756.1600</td>\n",
              "      <td>34.9200</td>\n",
              "      <td>21.8500</td>\n",
              "      <td>...</td>\n",
              "      <td>30.43</td>\n",
              "      <td>91.33</td>\n",
              "      <td>70.8500</td>\n",
              "      <td>32.79</td>\n",
              "      <td>54.89</td>\n",
              "      <td>45.730</td>\n",
              "      <td>56.720</td>\n",
              "      <td>14.0000</td>\n",
              "      <td>39.37</td>\n",
              "      <td>47.150</td>\n",
              "      <td>41.810</td>\n",
              "      <td>91.16</td>\n",
              "      <td>26.4500</td>\n",
              "      <td>56.4150</td>\n",
              "      <td>86.1750</td>\n",
              "      <td>60.935</td>\n",
              "      <td>56.850</td>\n",
              "      <td>37.7400</td>\n",
              "      <td>60.92</td>\n",
              "      <td>26.72</td>\n",
              "      <td>61.43</td>\n",
              "      <td>58.480</td>\n",
              "      <td>4.270</td>\n",
              "      <td>31.010</td>\n",
              "      <td>65.25</td>\n",
              "      <td>20.41</td>\n",
              "      <td>44.975</td>\n",
              "      <td>70.2300</td>\n",
              "      <td>91.05</td>\n",
              "      <td>227.0967</td>\n",
              "      <td>70.69</td>\n",
              "      <td>45.010</td>\n",
              "      <td>31.1900</td>\n",
              "      <td>94.170</td>\n",
              "      <td>81.540</td>\n",
              "      <td>52.15</td>\n",
              "      <td>34.10</td>\n",
              "      <td>48.74</td>\n",
              "      <td>38.140</td>\n",
              "      <td>4665.054</td>\n",
              "    </tr>\n",
              "    <tr>\n",
              "      <th>2</th>\n",
              "      <td>35.9044</td>\n",
              "      <td>96.95</td>\n",
              "      <td>97.57</td>\n",
              "      <td>61.98</td>\n",
              "      <td>95.5100</td>\n",
              "      <td>58.203333</td>\n",
              "      <td>57.95</td>\n",
              "      <td>126.510</td>\n",
              "      <td>26.712</td>\n",
              "      <td>166.1800</td>\n",
              "      <td>739.60</td>\n",
              "      <td>42.46</td>\n",
              "      <td>162.50</td>\n",
              "      <td>43.86</td>\n",
              "      <td>160.00</td>\n",
              "      <td>286.13</td>\n",
              "      <td>34.59</td>\n",
              "      <td>106.5787</td>\n",
              "      <td>61.916667</td>\n",
              "      <td>67.23</td>\n",
              "      <td>167.96</td>\n",
              "      <td>30.880</td>\n",
              "      <td>28.3900</td>\n",
              "      <td>43.54</td>\n",
              "      <td>58.34</td>\n",
              "      <td>25.38</td>\n",
              "      <td>52.106667</td>\n",
              "      <td>96.89</td>\n",
              "      <td>77.25</td>\n",
              "      <td>30.80</td>\n",
              "      <td>76.09</td>\n",
              "      <td>118.63</td>\n",
              "      <td>41.735</td>\n",
              "      <td>121.452</td>\n",
              "      <td>27.41</td>\n",
              "      <td>26.82</td>\n",
              "      <td>84.00</td>\n",
              "      <td>755.6200</td>\n",
              "      <td>34.9192</td>\n",
              "      <td>21.7700</td>\n",
              "      <td>...</td>\n",
              "      <td>30.17</td>\n",
              "      <td>91.37</td>\n",
              "      <td>70.7800</td>\n",
              "      <td>32.83</td>\n",
              "      <td>55.14</td>\n",
              "      <td>45.800</td>\n",
              "      <td>56.700</td>\n",
              "      <td>14.0056</td>\n",
              "      <td>39.38</td>\n",
              "      <td>47.130</td>\n",
              "      <td>41.865</td>\n",
              "      <td>91.36</td>\n",
              "      <td>26.3900</td>\n",
              "      <td>56.4900</td>\n",
              "      <td>85.6801</td>\n",
              "      <td>61.000</td>\n",
              "      <td>57.500</td>\n",
              "      <td>37.7117</td>\n",
              "      <td>61.03</td>\n",
              "      <td>26.66</td>\n",
              "      <td>61.55</td>\n",
              "      <td>58.510</td>\n",
              "      <td>4.285</td>\n",
              "      <td>31.195</td>\n",
              "      <td>65.41</td>\n",
              "      <td>20.39</td>\n",
              "      <td>44.810</td>\n",
              "      <td>70.0925</td>\n",
              "      <td>91.18</td>\n",
              "      <td>226.6300</td>\n",
              "      <td>71.30</td>\n",
              "      <td>45.015</td>\n",
              "      <td>31.2100</td>\n",
              "      <td>94.749</td>\n",
              "      <td>81.530</td>\n",
              "      <td>52.27</td>\n",
              "      <td>34.01</td>\n",
              "      <td>48.99</td>\n",
              "      <td>38.150</td>\n",
              "      <td>4665.826</td>\n",
              "    </tr>\n",
              "    <tr>\n",
              "      <th>3</th>\n",
              "      <td>35.8900</td>\n",
              "      <td>96.97</td>\n",
              "      <td>97.55</td>\n",
              "      <td>62.09</td>\n",
              "      <td>95.5200</td>\n",
              "      <td>58.216667</td>\n",
              "      <td>57.96</td>\n",
              "      <td>126.280</td>\n",
              "      <td>26.740</td>\n",
              "      <td>166.1480</td>\n",
              "      <td>739.55</td>\n",
              "      <td>42.52</td>\n",
              "      <td>162.68</td>\n",
              "      <td>43.80</td>\n",
              "      <td>160.12</td>\n",
              "      <td>286.80</td>\n",
              "      <td>34.61</td>\n",
              "      <td>106.3500</td>\n",
              "      <td>61.903333</td>\n",
              "      <td>67.38</td>\n",
              "      <td>167.85</td>\n",
              "      <td>30.890</td>\n",
              "      <td>28.3900</td>\n",
              "      <td>43.55</td>\n",
              "      <td>58.54</td>\n",
              "      <td>25.37</td>\n",
              "      <td>52.103333</td>\n",
              "      <td>96.76</td>\n",
              "      <td>76.96</td>\n",
              "      <td>30.86</td>\n",
              "      <td>75.65</td>\n",
              "      <td>118.57</td>\n",
              "      <td>41.710</td>\n",
              "      <td>121.450</td>\n",
              "      <td>27.42</td>\n",
              "      <td>26.87</td>\n",
              "      <td>83.34</td>\n",
              "      <td>756.3599</td>\n",
              "      <td>34.9510</td>\n",
              "      <td>21.8100</td>\n",
              "      <td>...</td>\n",
              "      <td>30.10</td>\n",
              "      <td>91.42</td>\n",
              "      <td>70.8750</td>\n",
              "      <td>32.86</td>\n",
              "      <td>55.31</td>\n",
              "      <td>45.790</td>\n",
              "      <td>56.690</td>\n",
              "      <td>14.0573</td>\n",
              "      <td>39.42</td>\n",
              "      <td>47.115</td>\n",
              "      <td>41.920</td>\n",
              "      <td>92.28</td>\n",
              "      <td>26.3955</td>\n",
              "      <td>56.5335</td>\n",
              "      <td>85.6650</td>\n",
              "      <td>61.008</td>\n",
              "      <td>57.750</td>\n",
              "      <td>37.8250</td>\n",
              "      <td>61.13</td>\n",
              "      <td>26.73</td>\n",
              "      <td>61.50</td>\n",
              "      <td>58.470</td>\n",
              "      <td>4.280</td>\n",
              "      <td>31.140</td>\n",
              "      <td>65.24</td>\n",
              "      <td>20.37</td>\n",
              "      <td>44.690</td>\n",
              "      <td>69.9550</td>\n",
              "      <td>91.28</td>\n",
              "      <td>227.5300</td>\n",
              "      <td>71.31</td>\n",
              "      <td>45.020</td>\n",
              "      <td>31.2100</td>\n",
              "      <td>94.310</td>\n",
              "      <td>81.710</td>\n",
              "      <td>52.30</td>\n",
              "      <td>33.96</td>\n",
              "      <td>48.95</td>\n",
              "      <td>38.195</td>\n",
              "      <td>4667.081</td>\n",
              "    </tr>\n",
              "    <tr>\n",
              "      <th>4</th>\n",
              "      <td>36.0080</td>\n",
              "      <td>96.96</td>\n",
              "      <td>97.73</td>\n",
              "      <td>61.89</td>\n",
              "      <td>95.5300</td>\n",
              "      <td>58.230000</td>\n",
              "      <td>58.21</td>\n",
              "      <td>126.585</td>\n",
              "      <td>26.720</td>\n",
              "      <td>165.9900</td>\n",
              "      <td>738.72</td>\n",
              "      <td>42.61</td>\n",
              "      <td>162.75</td>\n",
              "      <td>43.92</td>\n",
              "      <td>160.86</td>\n",
              "      <td>286.42</td>\n",
              "      <td>34.62</td>\n",
              "      <td>106.0000</td>\n",
              "      <td>61.890000</td>\n",
              "      <td>67.30</td>\n",
              "      <td>168.44</td>\n",
              "      <td>30.875</td>\n",
              "      <td>28.3900</td>\n",
              "      <td>43.63</td>\n",
              "      <td>58.56</td>\n",
              "      <td>25.32</td>\n",
              "      <td>52.100000</td>\n",
              "      <td>96.76</td>\n",
              "      <td>77.03</td>\n",
              "      <td>30.89</td>\n",
              "      <td>76.50</td>\n",
              "      <td>118.42</td>\n",
              "      <td>41.820</td>\n",
              "      <td>121.380</td>\n",
              "      <td>27.40</td>\n",
              "      <td>26.83</td>\n",
              "      <td>82.48</td>\n",
              "      <td>755.6700</td>\n",
              "      <td>34.9500</td>\n",
              "      <td>21.8593</td>\n",
              "      <td>...</td>\n",
              "      <td>30.12</td>\n",
              "      <td>91.45</td>\n",
              "      <td>71.1299</td>\n",
              "      <td>32.86</td>\n",
              "      <td>55.28</td>\n",
              "      <td>45.765</td>\n",
              "      <td>56.690</td>\n",
              "      <td>14.0701</td>\n",
              "      <td>39.54</td>\n",
              "      <td>47.010</td>\n",
              "      <td>41.920</td>\n",
              "      <td>91.86</td>\n",
              "      <td>26.4010</td>\n",
              "      <td>56.5200</td>\n",
              "      <td>85.8700</td>\n",
              "      <td>61.110</td>\n",
              "      <td>57.165</td>\n",
              "      <td>37.7972</td>\n",
              "      <td>61.16</td>\n",
              "      <td>26.68</td>\n",
              "      <td>61.42</td>\n",
              "      <td>58.490</td>\n",
              "      <td>4.215</td>\n",
              "      <td>31.050</td>\n",
              "      <td>65.33</td>\n",
              "      <td>20.36</td>\n",
              "      <td>44.610</td>\n",
              "      <td>69.7401</td>\n",
              "      <td>91.16</td>\n",
              "      <td>227.1250</td>\n",
              "      <td>71.06</td>\n",
              "      <td>45.050</td>\n",
              "      <td>31.1800</td>\n",
              "      <td>94.155</td>\n",
              "      <td>81.720</td>\n",
              "      <td>52.30</td>\n",
              "      <td>34.17</td>\n",
              "      <td>48.89</td>\n",
              "      <td>38.320</td>\n",
              "      <td>4664.491</td>\n",
              "    </tr>\n",
              "  </tbody>\n",
              "</table>\n",
              "<p>5 rows × 82 columns</p>\n",
              "</div>"
            ],
            "text/plain": [
              "       AAL   AAPL   ADBE    ADI      ADP  ...    WDC    WFM   XLNX    YHOO       NDX\n",
              "0  35.9800  96.80  97.80  61.15  95.4000  ...  52.16  33.95  48.61  38.010  4665.054\n",
              "1  35.9310  96.89  97.80  61.61  95.4115  ...  52.15  34.10  48.74  38.140  4665.054\n",
              "2  35.9044  96.95  97.57  61.98  95.5100  ...  52.27  34.01  48.99  38.150  4665.826\n",
              "3  35.8900  96.97  97.55  62.09  95.5200  ...  52.30  33.96  48.95  38.195  4667.081\n",
              "4  36.0080  96.96  97.73  61.89  95.5300  ...  52.30  34.17  48.89  38.320  4664.491\n",
              "\n",
              "[5 rows x 82 columns]"
            ]
          },
          "metadata": {
            "tags": []
          },
          "execution_count": 14
        }
      ]
    },
    {
      "cell_type": "code",
      "metadata": {
        "id": "B99JqmjQFS4e",
        "colab_type": "code",
        "colab": {}
      },
      "source": [
        "train_ = train_df.values\n",
        "val_ = val_df.values\n",
        "test_ = test_df.values"
      ],
      "execution_count": null,
      "outputs": []
    },
    {
      "cell_type": "code",
      "metadata": {
        "id": "KsCbK_cVFemB",
        "colab_type": "code",
        "colab": {
          "base_uri": "https://localhost:8080/",
          "height": 66
        },
        "outputId": "593087a9-5233-4ff1-a594-f13471cc8362"
      },
      "source": [
        "print(\"train shape {0}\".format(train_.shape))\n",
        "print(\"val shape {0}\".format(val_.shape))\n",
        "print(\"test shape {0}\".format(test_.shape))"
      ],
      "execution_count": null,
      "outputs": [
        {
          "output_type": "stream",
          "text": [
            "train shape (28392, 82)\n",
            "val shape (6084, 82)\n",
            "test shape (6084, 82)\n"
          ],
          "name": "stdout"
        }
      ]
    },
    {
      "cell_type": "code",
      "metadata": {
        "id": "ifHHlGUQGHUf",
        "colab_type": "code",
        "colab": {}
      },
      "source": [
        "scaler = MinMaxScaler()\n",
        "scale_close = MinMaxScaler()"
      ],
      "execution_count": null,
      "outputs": []
    },
    {
      "cell_type": "code",
      "metadata": {
        "id": "R9F8PGizGPjY",
        "colab_type": "code",
        "colab": {}
      },
      "source": [
        "# x = train_[:, :-1]\n",
        "# y = train_[:, -1]\n",
        "\n",
        "# scale_close.fit(y.reshape(-1, 1))"
      ],
      "execution_count": null,
      "outputs": []
    },
    {
      "cell_type": "code",
      "metadata": {
        "id": "2q5STb7KH20z",
        "colab_type": "code",
        "colab": {}
      },
      "source": [
        "# scaler.fit(train_)\n",
        "scaler.fit(data)\n",
        "\n",
        "\n",
        "train_ = scaler.transform(train_)\n",
        "val_ = scaler.transform(val_)\n",
        "test_ = scaler.transform(test_)\n",
        "\n",
        "# scale_close.transform()"
      ],
      "execution_count": null,
      "outputs": []
    },
    {
      "cell_type": "code",
      "metadata": {
        "id": "6hwcayTXI1gJ",
        "colab_type": "code",
        "colab": {}
      },
      "source": [
        "SEQ_LEN = 15\n",
        "FUTURE_PERIOD = 1\n",
        "\n",
        "RATIO_TO_PREDICT = \"Close\""
      ],
      "execution_count": null,
      "outputs": []
    },
    {
      "cell_type": "code",
      "metadata": {
        "id": "cz-XYDwbJBKQ",
        "colab_type": "code",
        "colab": {}
      },
      "source": [
        "def split_data(data):\n",
        "  X = []\n",
        "  Y = []\n",
        "  Z = []\n",
        "\n",
        "  for i in range(SEQ_LEN, len(data)-FUTURE_PERIOD+1):\n",
        "    X.append(data[i-SEQ_LEN:i, :-1])\n",
        "    Y.append(data[i-SEQ_LEN:i, -1])\n",
        "    Z.append(data[i+(FUTURE_PERIOD-1), -1])\n",
        "\n",
        "\n",
        "  return np.array(X), np.array(Y), np.array(Z)"
      ],
      "execution_count": null,
      "outputs": []
    },
    {
      "cell_type": "code",
      "metadata": {
        "id": "okGfi88OKQ-Y",
        "colab_type": "code",
        "colab": {}
      },
      "source": [
        "X_train, y_train, z_train = split_data(train_)\n",
        "X_val, y_val, z_val = split_data(val_)\n",
        "X_test, y_test, z_test = split_data(test_)\n",
        "\n",
        "# z_train.reshape(-1, 1)\n",
        "# z_val.reshape(-1, 1)\n",
        "# z_test.reshape(-1, 1)"
      ],
      "execution_count": null,
      "outputs": []
    },
    {
      "cell_type": "markdown",
      "metadata": {
        "id": "J_JNwHCRY5Bx",
        "colab_type": "text"
      },
      "source": [
        ""
      ]
    },
    {
      "cell_type": "code",
      "metadata": {
        "id": "cC5wB3sQKd_I",
        "colab_type": "code",
        "colab": {
          "base_uri": "https://localhost:8080/",
          "height": 66
        },
        "outputId": "abdb602e-8181-4033-f465-fddbc665537f"
      },
      "source": [
        "print(X_train.shape, y_train.shape, z_train.shape)\n",
        "print(X_val.shape, y_val.shape, z_val.shape)\n",
        "print(X_test.shape, y_test.shape, z_test.shape)\n"
      ],
      "execution_count": null,
      "outputs": [
        {
          "output_type": "stream",
          "text": [
            "(28377, 15, 81) (28377, 15) (28377,)\n",
            "(6069, 15, 81) (6069, 15) (6069,)\n",
            "(6069, 15, 81) (6069, 15) (6069,)\n"
          ],
          "name": "stdout"
        }
      ]
    },
    {
      "cell_type": "code",
      "metadata": {
        "id": "W9DAoytOK5wD",
        "colab_type": "code",
        "colab": {
          "base_uri": "https://localhost:8080/",
          "height": 66
        },
        "outputId": "8d8f1c39-acb2-4e0e-8771-b79b850a0a89"
      },
      "source": [
        "print(\"X_train shape {0}\".format(X_train.shape))\n",
        "print(\"X_val shape {0}\".format(X_val.shape))\n",
        "print(\"X_test shape {0}\".format(X_test.shape))"
      ],
      "execution_count": null,
      "outputs": [
        {
          "output_type": "stream",
          "text": [
            "X_train shape (28377, 15, 81)\n",
            "X_val shape (6069, 15, 81)\n",
            "X_test shape (6069, 15, 81)\n"
          ],
          "name": "stdout"
        }
      ]
    },
    {
      "cell_type": "code",
      "metadata": {
        "id": "fnT0JOZZMx7c",
        "colab_type": "code",
        "colab": {
          "base_uri": "https://localhost:8080/",
          "height": 66
        },
        "outputId": "9e133c20-61fe-46a4-d604-e2c050b7ec95"
      },
      "source": [
        "print(\"y_train shape {0}\".format(y_train.shape))\n",
        "print(\"y_val shape {0}\".format(y_val.shape))\n",
        "print(\"y_test shape {0}\".format(y_test.shape))"
      ],
      "execution_count": null,
      "outputs": [
        {
          "output_type": "stream",
          "text": [
            "y_train shape (28377, 15)\n",
            "y_val shape (6069, 15)\n",
            "y_test shape (6069, 15)\n"
          ],
          "name": "stdout"
        }
      ]
    },
    {
      "cell_type": "code",
      "metadata": {
        "id": "Gde2tVqKwJVH",
        "colab_type": "code",
        "colab": {
          "base_uri": "https://localhost:8080/",
          "height": 33
        },
        "outputId": "c5eb715f-21e7-4819-d6ab-ae3c0b1af09d"
      },
      "source": [
        "idx = np.isfinite(X_train.all()) & np.isfinite(y_train.all()) & np.isfinite(z_train.all()) \n",
        "print(idx)"
      ],
      "execution_count": null,
      "outputs": [
        {
          "output_type": "stream",
          "text": [
            "True\n"
          ],
          "name": "stdout"
        }
      ]
    },
    {
      "cell_type": "code",
      "metadata": {
        "id": "GJTy08_rNKTb",
        "colab_type": "code",
        "colab": {
          "base_uri": "https://localhost:8080/",
          "height": 366
        },
        "outputId": "ff41fb3f-0c81-4c50-e929-0f43f1875414"
      },
      "source": [
        "plt.figure(figsize = (15, 5))\n",
        "plt.plot(np.arange(z_train.shape[0]), z_train, color='blue', label='train target')\n",
        "plt.plot(np.arange(z_train.shape[0], z_train.shape[0] + z_val.shape[0]), z_val, color='orange', label='val target')\n",
        "plt.plot(np.arange(z_train.shape[0]+ z_val.shape[0], z_train.shape[0] + z_val.shape[0] + z_test.shape[0]), z_test, color='black', label='test target')\n",
        "\n",
        "plt.title('Train set')\n",
        "plt.xlabel('time')\n",
        "plt.ylabel('normalized price')\n",
        "plt.legend(loc='best')"
      ],
      "execution_count": null,
      "outputs": [
        {
          "output_type": "execute_result",
          "data": {
            "text/plain": [
              "<matplotlib.legend.Legend at 0x7f5dfc4d01d0>"
            ]
          },
          "metadata": {
            "tags": []
          },
          "execution_count": 27
        },
        {
          "output_type": "display_data",
          "data": {
            "image/png": "[encoded data removed]",
            "text/plain": [
              "<Figure size 1080x360 with 1 Axes>"
            ]
          },
          "metadata": {
            "tags": [],
            "needs_background": "light"
          }
        }
      ]
    },
    {
      "cell_type": "code",
      "metadata": {
        "id": "n22VbbSoYwig",
        "colab_type": "code",
        "colab": {}
      },
      "source": [
        ""
      ],
      "execution_count": null,
      "outputs": []
    },
    {
      "cell_type": "markdown",
      "metadata": {
        "id": "8_8hlGO6YyFa",
        "colab_type": "text"
      },
      "source": [
        "#현대차"
      ]
    },
    {
      "cell_type": "code",
      "metadata": {
        "id": "KDcXQv_DZ5TB",
        "colab_type": "code",
        "colab": {
          "base_uri": "https://localhost:8080/",
          "height": 316
        },
        "outputId": "f4818c94-fc7a-41fb-bc22-2eed2602a340"
      },
      "source": [
        "def drop_data(df):\n",
        "  df = df.drop('Unnamed: 0',1)\n",
        "  df = df.drop('수정구분', 1)\n",
        "  df = df.drop('수정비율', 1)\n",
        "  df = df.drop('종가등락구분', 1)\n",
        "  df = df.drop('candle body', 1)\n",
        "  df = df.drop('거래대금', 1)\n",
        "  df = df.drop('MA5', 1)\n",
        "  df = df.drop('MA20', 1)\n",
        "  df = df.drop('MA60', 1)\n",
        "  df = df.drop('MA120', 1)\n",
        "  df = df.drop('TR5', 1)\n",
        "  df = df.drop('TR20', 1)\n",
        "  df = df.drop('TR60', 1)\n",
        "  df = df.drop('TR120', 1)\n",
        "  df = df.drop('OBV', 1)\n",
        "  df = df.drop('OBV_5MA', 1)\n",
        "  df = df.drop('OBV_OSC', 1)\n",
        "  df = df.drop('MACD', 1)\n",
        "  df = df.drop('MACD_Signal', 1)\n",
        "  df = df.drop('MACD_OSC', 1)\n",
        "  df = df.drop('ATR', 1)\n",
        "  df = df.drop('이격도5', 1)\n",
        "  df = df.drop('이격도20', 1)\n",
        "  df = df.drop('이격도60', 1)\n",
        "  df = df.drop('이격도120', 1)\n",
        "  df = df.drop('Fast_K', 1)\n",
        "  df = df.drop('Fast_D', 1)\n",
        "  df = df.drop('Slow_K', 1)\n",
        "  df = df.drop('Slow_D', 1)\n",
        "  df = df.drop('candle_ratio', 1)\n",
        "  df = df.drop('Bol_upper', 1)\n",
        "  df = df.drop('Bol_lower', 1)\n",
        "  df = df.drop('candle_uppertail', 1)\n",
        "  df = df.drop('candle_lowertail', 1)\n",
        "  \n",
        "  lst = ['날짜', '시간', '시가', '고가', '저가', '종가', '거래량']\n",
        "  for i in df.columns:\n",
        "    if i not in lst:\n",
        "      df = df.drop(i, 1)\n",
        "\n",
        "  return df\n",
        "\n",
        "df = pd.read_csv('/content/gdrive/My Drive/Stock_Prediction/Vanilla/현대차_train_modi.csv')  #현차\n",
        "#df = pd.read_csv('/content/drive/My Drive/5개 데이터 전처리/kodex200_train_modi.csv')  #코스피\n",
        "#df = pd.read_csv('/content/drive/My Drive/5개 데이터 전처리/카카오_train_modi.csv')  #카카오\n",
        "\n",
        "df = drop_data(df) ## 날짜, 시간, 5개 특성만 남기는 함수\n",
        "df = df.dropna(0)\n",
        "\n",
        "print(df)\n",
        "\n",
        "data = df.values\n",
        "print(\"data :\", data[:, 2:].shape)\n",
        "scaler = MinMaxScaler()\n",
        "scaler.fit(data[:, 2:])\n",
        "\n",
        "temp = list(df['날짜'])\n",
        "\n",
        "df1 = df.iloc[:temp.index(20200701.0)] # .csv에서 ~20200701날짜 까지 데이터 추리기 // 약 8.7만개\n",
        "df2 = df.iloc[temp.index(20200701.0):temp.index(20200803.0)] # .csv에서 20200701~20200803날짜 까지 데이터 추리기 // 약 1달 평가\n",
        "df3 = df.iloc[temp.index(20200803.0):] #.csv에서 20200803~ 데이터 추리기 // 약 20일정도 -> 일일 평가 위해서\n",
        "\n",
        "print(df1.shape)\n",
        "print(df2.shape)\n",
        "print(df3.shape)"
      ],
      "execution_count": 149,
      "outputs": [
        {
          "output_type": "stream",
          "text": [
            "              날짜      시간      시가      고가      저가      종가    거래량\n",
            "0       20190726   90100  130500  131000  130500  131000   4306\n",
            "1       20190726   90200  131000  132000  131000  131500   3751\n",
            "2       20190726   90300  131500  131500  131000  131500   1699\n",
            "3       20190726   90400  131500  131500  131000  131000    233\n",
            "4       20190726   90500  131500  131500  131000  131000    662\n",
            "...          ...     ...     ...     ...     ...     ...    ...\n",
            "101208  20200821  151700  156000  156000  155500  155500   6995\n",
            "101209  20200821  151800  155500  156000  155500  155500   6948\n",
            "101210  20200821  151900  155500  156500  155500  156000  24125\n",
            "101211  20200821  152000  156000  156500  156000  156500   3467\n",
            "101212  20200821  153000  156000  156000  156000  156000  89846\n",
            "\n",
            "[101213 rows x 7 columns]\n",
            "data : (101213, 5)\n",
            "(87116, 7)\n",
            "(8763, 7)\n",
            "(5334, 7)\n"
          ],
          "name": "stdout"
        }
      ]
    },
    {
      "cell_type": "code",
      "metadata": {
        "id": "sjiTN6UjZUdr",
        "colab_type": "code",
        "colab": {
          "base_uri": "https://localhost:8080/",
          "height": 50
        },
        "outputId": "8a1d154b-8d11-4c22-f0eb-bf9c1a6f8e9d"
      },
      "source": [
        "df_13days = []\n",
        "\n",
        "df_13days.append(df.iloc[temp.index(20200803.0):temp.index(20200804.0)])\n",
        "df_13days.append(df.iloc[temp.index(20200804.0):temp.index(20200805.0)])\n",
        "df_13days.append(df.iloc[temp.index(20200805.0):temp.index(20200806.0)])\n",
        "df_13days.append(df.iloc[temp.index(20200806.0):temp.index(20200807.0)])\n",
        "df_13days.append(df.iloc[temp.index(20200807.0):temp.index(20200810.0)])\n",
        "df_13days.append(df.iloc[temp.index(20200810.0):temp.index(20200811.0)])\n",
        "df_13days.append(df.iloc[temp.index(20200811.0):temp.index(20200812.0)])\n",
        "df_13days.append(df.iloc[temp.index(20200812.0):temp.index(20200813.0)])\n",
        "df_13days.append(df.iloc[temp.index(20200813.0):temp.index(20200814.0)])\n",
        "df_13days.append(df.iloc[temp.index(20200814.0):temp.index(20200818.0)])\n",
        "df_13days.append(df.iloc[temp.index(20200818.0):temp.index(20200819.0)])\n",
        "df_13days.append(df.iloc[temp.index(20200819.0):temp.index(20200820.0)])\n",
        "df_13days.append(df.iloc[temp.index(20200820.0):temp.index(20200821.0)])\n",
        "\n",
        "print(len(df_13days))\n",
        "print(df_13days[0].shape)"
      ],
      "execution_count": 120,
      "outputs": [
        {
          "output_type": "stream",
          "text": [
            "13\n",
            "(381, 7)\n"
          ],
          "name": "stdout"
        }
      ]
    },
    {
      "cell_type": "code",
      "metadata": {
        "id": "WeMFtu9yanAD",
        "colab_type": "code",
        "colab": {}
      },
      "source": [
        "def handle_dataframe(data):\n",
        "  data = data.drop('날짜', 1)\n",
        "  data = data.drop('시간', 1)\n",
        "  # data = data.assign( Close = data['종가'])\n",
        "  # data = data.drop('종가', 1)\n",
        "\n",
        "  return data\n",
        "\n",
        "def minmax_all(lst) :\n",
        "  lst = np.array(lst)\n",
        "  lst = lst.T\n",
        "  for i in range(lst.shape[0]):\n",
        "    lst[i] = normalize(lst[i])\n",
        "  lst = lst.T\n",
        "  return lst\n",
        "\n",
        "def split_data(data, SEQ_LEN, FUTURE_PERIOD):\n",
        "  X = []\n",
        "  Y = []\n",
        "  Z = []\n",
        "\n",
        "  for i in range(SEQ_LEN + FUTURE_PERIOD, len(data) - FUTURE_PERIOD + 1):\n",
        "    tmp = data[ i - SEQ_LEN - FUTURE_PERIOD : i, : ]\n",
        "    # tmp = minmax_100000(tmp)\n",
        "    # tmp = minmax_log_minmax_log(tmp)\n",
        "    # tmp = minmax_log_minmaxlog_log(tmp)\n",
        "    # tmp = minmax_all(tmp)\n",
        "    X.append(np.concatenate([tmp[ : SEQ_LEN, 0: 3], tmp[ : SEQ_LEN, 4][:, np.newaxis]], axis=1))\n",
        "    Y.append(tmp[ : SEQ_LEN, 3 ])\n",
        "    Z.append(tmp[ SEQ_LEN + FUTURE_PERIOD -1 , 3 ])\n",
        "\n",
        "\n",
        "  return np.array(X), np.array(Y), np.array(Z)\n",
        "\n",
        "\n",
        "\n",
        "def split_data_day13(data, SEQ_LEN, FUTURE_PERIOD):\n",
        "  X = []\n",
        "  Y = []\n",
        "  Z = []\n",
        "\n",
        "  for i in range(SEQ_LEN + FUTURE_PERIOD, len(data) - FUTURE_PERIOD + 1):\n",
        "    tmp = data[ i - SEQ_LEN - FUTURE_PERIOD : i, : ]\n",
        "    # tmp = minmax_100000(tmp)\n",
        "    # tmp = minmax_log_minmax_log(tmp)\n",
        "    # tmp = minmax_log_minmaxlog_log(tmp)\n",
        "    tmp = minmax_log_log_log(tmp)\n",
        "    X.append(tmp[ : SEQ_LEN, : ])\n",
        "    Y.append(tmp[ SEQ_LEN + FUTURE_PERIOD - 1 , 3 ])\n",
        "    Z.append(data[ i - 1, 3 ])\n",
        "\n",
        "  return np.array(X), np.array(Y), np.array(Z)"
      ],
      "execution_count": 108,
      "outputs": []
    },
    {
      "cell_type": "code",
      "metadata": {
        "id": "j5HvnngmZgpi",
        "colab_type": "code",
        "colab": {}
      },
      "source": [
        "df1_data = handle_dataframe(df1).values\n",
        "df2_data = handle_dataframe(df2).values"
      ],
      "execution_count": 150,
      "outputs": []
    },
    {
      "cell_type": "code",
      "metadata": {
        "id": "K0C61I9gp5-N",
        "colab_type": "code",
        "colab": {}
      },
      "source": [
        "df1_data = scaler.transform(df1_data)\n",
        "df2_data = scaler.transform(df2_data)"
      ],
      "execution_count": 151,
      "outputs": []
    },
    {
      "cell_type": "code",
      "metadata": {
        "id": "1zh7C6orZhuU",
        "colab_type": "code",
        "colab": {
          "base_uri": "https://localhost:8080/",
          "height": 33
        },
        "outputId": "25fbe7b5-90a3-40b3-fb3e-41a416567897"
      },
      "source": [
        "df1_data.shape"
      ],
      "execution_count": 152,
      "outputs": [
        {
          "output_type": "execute_result",
          "data": {
            "text/plain": [
              "(87116, 5)"
            ]
          },
          "metadata": {
            "tags": []
          },
          "execution_count": 152
        }
      ]
    },
    {
      "cell_type": "code",
      "metadata": {
        "id": "zx90giWIZjQV",
        "colab_type": "code",
        "colab": {
          "base_uri": "https://localhost:8080/",
          "height": 50
        },
        "outputId": "3f2ef813-1cb7-47ca-bcfd-9a2149542ae0"
      },
      "source": [
        "Day_size = 60\n",
        "Pred_days = 10\n",
        "\n",
        "\n",
        "# df1 = handle_dataframe(df1).values\n",
        "# df2 = handle_dataframe(df2).values\n",
        "X_train, y_train, z_train = split_data(df1_data, SEQ_LEN = Day_size, FUTURE_PERIOD = Pred_days)\n",
        "X_test, y_test, z_test = split_data(df2_data, SEQ_LEN = Day_size, FUTURE_PERIOD = Pred_days)\n",
        "\n",
        "# day13_x = []\n",
        "# day13_y = []\n",
        "# day13_z = []\n",
        "# for i in range(len(df_13days)):\n",
        "#   temp = handle_dataframe(df_13days[i]).values\n",
        "#   oneday_x, oneday_y, oneday_z = split_data_day13(temp, SEQ_LEN = Day_size, FUTURE_PERIOD = Pred_days)\n",
        "#   day13_x.append(oneday_x)\n",
        "#   day13_y.append(oneday_y)\n",
        "#   day13_z.append(oneday_z)\n",
        "\n",
        "# day13_x = np.array(day13_x)\n",
        "# day13_y = np.array(day13_y)[:, :, np.newaxis]\n",
        "# day13_z = np.array(day13_z)[:, :, np.newaxis]\n",
        "\n",
        "print(X_train.shape, y_train.shape, z_train.reshape(-1).shape)\n",
        "print(X_test.shape, y_test.shape, z_test.reshape(-1).shape)\n",
        "# print(day13_x.shape, day13_y.shape, day13_z.shape)"
      ],
      "execution_count": 153,
      "outputs": [
        {
          "output_type": "stream",
          "text": [
            "(87037, 60, 4) (87037, 60) (87037,)\n",
            "(8684, 60, 4) (8684, 60) (8684,)\n"
          ],
          "name": "stdout"
        }
      ]
    },
    {
      "cell_type": "code",
      "metadata": {
        "id": "nDEvKTIjpTqa",
        "colab_type": "code",
        "colab": {
          "base_uri": "https://localhost:8080/",
          "height": 1000
        },
        "outputId": "3d1d8141-5647-462a-fb9d-d63aba7d61b4"
      },
      "source": [
        "X_train[0]"
      ],
      "execution_count": 154,
      "outputs": [
        {
          "output_type": "execute_result",
          "data": {
            "text/plain": [
              "array([[5.68815331e-01, 5.69939183e-01, 5.69565217e-01, 5.05822361e-03],\n",
              "       [5.73170732e-01, 5.78627281e-01, 5.73913043e-01, 4.40626957e-03],\n",
              "       [5.77526132e-01, 5.74283232e-01, 5.73913043e-01, 1.99580165e-03],\n",
              "       [5.77526132e-01, 5.74283232e-01, 5.73913043e-01, 2.73703228e-04],\n",
              "       [5.77526132e-01, 5.74283232e-01, 5.73913043e-01, 7.77646082e-04],\n",
              "       [5.77526132e-01, 5.74283232e-01, 5.69565217e-01, 8.34383704e-03],\n",
              "       [5.77526132e-01, 5.78627281e-01, 5.78260870e-01, 1.42607605e-03],\n",
              "       [5.81881533e-01, 5.78627281e-01, 5.73913043e-01, 2.59724394e-03],\n",
              "       [5.73170732e-01, 5.74283232e-01, 5.73913043e-01, 9.39753573e-04],\n",
              "       [5.77526132e-01, 5.74283232e-01, 5.73913043e-01, 3.63332225e-03],\n",
              "       [5.77526132e-01, 5.78627281e-01, 5.78260870e-01, 2.96727191e-03],\n",
              "       [5.81881533e-01, 5.78627281e-01, 5.73913043e-01, 3.68500870e-03],\n",
              "       [5.73170732e-01, 5.74283232e-01, 5.73913043e-01, 5.23912617e-04],\n",
              "       [5.77526132e-01, 5.74283232e-01, 5.73913043e-01, 1.03255424e-03],\n",
              "       [5.77526132e-01, 5.74283232e-01, 5.73913043e-01, 1.72092373e-03],\n",
              "       [5.77526132e-01, 5.74283232e-01, 5.73913043e-01, 3.97045885e-04],\n",
              "       [5.77526132e-01, 5.74283232e-01, 5.73913043e-01, 1.91474791e-04],\n",
              "       [5.73170732e-01, 5.74283232e-01, 5.73913043e-01, 6.30222240e-03],\n",
              "       [5.73170732e-01, 5.74283232e-01, 5.73913043e-01, 1.66571321e-03],\n",
              "       [5.77526132e-01, 5.78627281e-01, 5.78260870e-01, 5.14397612e-03],\n",
              "       [5.81881533e-01, 5.78627281e-01, 5.78260870e-01, 3.59455742e-04],\n",
              "       [5.77526132e-01, 5.78627281e-01, 5.78260870e-01, 3.40073324e-03],\n",
              "       [5.81881533e-01, 5.78627281e-01, 5.78260870e-01, 3.41835362e-04],\n",
              "       [5.77526132e-01, 5.78627281e-01, 5.78260870e-01, 4.62946104e-03],\n",
              "       [5.77526132e-01, 5.78627281e-01, 5.73913043e-01, 2.20019805e-03],\n",
              "       [5.73170732e-01, 5.78627281e-01, 5.73913043e-01, 2.12501777e-03],\n",
              "       [5.81881533e-01, 5.78627281e-01, 5.78260870e-01, 6.26110818e-04],\n",
              "       [5.81881533e-01, 5.78627281e-01, 5.73913043e-01, 1.83839293e-03],\n",
              "       [5.73170732e-01, 5.74283232e-01, 5.73913043e-01, 9.73819640e-04],\n",
              "       [5.73170732e-01, 5.74283232e-01, 5.73913043e-01, 4.32286644e-04],\n",
              "       [5.77526132e-01, 5.74283232e-01, 5.73913043e-01, 3.67678585e-04],\n",
              "       [5.77526132e-01, 5.74283232e-01, 5.78260870e-01, 4.58129867e-04],\n",
              "       [5.73170732e-01, 5.74283232e-01, 5.73913043e-01, 4.38160103e-04],\n",
              "       [5.73170732e-01, 5.74283232e-01, 5.73913043e-01, 4.81623706e-04],\n",
              "       [5.73170732e-01, 5.74283232e-01, 5.73913043e-01, 2.63248470e-03],\n",
              "       [5.77526132e-01, 5.74283232e-01, 5.73913043e-01, 1.06779500e-03],\n",
              "       [5.77526132e-01, 5.78627281e-01, 5.73913043e-01, 5.24734901e-03],\n",
              "       [5.81881533e-01, 5.78627281e-01, 5.78260870e-01, 4.28762568e-04],\n",
              "       [5.81881533e-01, 5.78627281e-01, 5.78260870e-01, 4.95720010e-04],\n",
              "       [5.77526132e-01, 5.78627281e-01, 5.78260870e-01, 7.89393001e-04],\n",
              "       [5.77526132e-01, 5.78627281e-01, 5.78260870e-01, 8.56350444e-04],\n",
              "       [5.77526132e-01, 5.78627281e-01, 5.78260870e-01, 3.53582282e-04],\n",
              "       [5.77526132e-01, 5.78627281e-01, 5.78260870e-01, 3.68853277e-04],\n",
              "       [5.81881533e-01, 5.78627281e-01, 5.78260870e-01, 3.08943987e-04],\n",
              "       [5.81881533e-01, 5.78627281e-01, 5.78260870e-01, 1.04782523e-03],\n",
              "       [5.77526132e-01, 5.78627281e-01, 5.78260870e-01, 1.40023282e-03],\n",
              "       [5.81881533e-01, 5.78627281e-01, 5.78260870e-01, 1.13592713e-03],\n",
              "       [5.81881533e-01, 5.78627281e-01, 5.78260870e-01, 1.12535490e-03],\n",
              "       [5.77526132e-01, 5.78627281e-01, 5.78260870e-01, 1.03842770e-03],\n",
              "       [5.77526132e-01, 5.78627281e-01, 5.78260870e-01, 1.28393832e-03],\n",
              "       [5.81881533e-01, 5.78627281e-01, 5.78260870e-01, 9.65596796e-04],\n",
              "       [5.81881533e-01, 5.78627281e-01, 5.78260870e-01, 9.37404189e-04],\n",
              "       [5.81881533e-01, 5.78627281e-01, 5.78260870e-01, 8.11712149e-04],\n",
              "       [5.81881533e-01, 5.82971329e-01, 5.78260870e-01, 1.46143428e-02],\n",
              "       [5.81881533e-01, 5.82971329e-01, 5.82608696e-01, 1.37791368e-03],\n",
              "       [5.86236934e-01, 5.82971329e-01, 5.82608696e-01, 8.63868472e-03],\n",
              "       [5.81881533e-01, 5.82971329e-01, 5.78260870e-01, 2.51501550e-03],\n",
              "       [5.81881533e-01, 5.82971329e-01, 5.78260870e-01, 4.57072644e-03],\n",
              "       [5.81881533e-01, 5.82971329e-01, 5.82608696e-01, 3.46534130e-04],\n",
              "       [5.81881533e-01, 5.82971329e-01, 5.82608696e-01, 4.53431099e-04]])"
            ]
          },
          "metadata": {
            "tags": []
          },
          "execution_count": 154
        }
      ]
    },
    {
      "cell_type": "markdown",
      "metadata": {
        "id": "7rY9Z7-TYotI",
        "colab_type": "text"
      },
      "source": [
        "#모델"
      ]
    },
    {
      "cell_type": "code",
      "metadata": {
        "id": "bCtC65Bm7ogc",
        "colab_type": "code",
        "colab": {}
      },
      "source": [
        "class cnn(tf.keras.Model):\n",
        "    def __init__(self, n, dynamic=True):\n",
        "        super(cnn, self).__init__()\n",
        "        self.n=n\n",
        "        \n",
        "        self.conv = []\n",
        "        self.relu = []\n",
        "        self.bn = []\n",
        "        \n",
        "        for f_i in range(n):\n",
        "          self.conv.append(Conv1D(1,kernel_size=5,padding='same'))\n",
        "          self.relu.append(LeakyReLU())\n",
        "          self.bn.append(BatchNormalization())\n",
        "        \n",
        "        self.concat = Concatenate()\n",
        "\n",
        "    def call(self, X, training=None):\n",
        "        d_list=[]\n",
        "        \n",
        "        for i in range(self.n):\n",
        "            c = Lambda(lambda x:x[:,:,i:i+1], name=\"Lambda_\"+str(i))(X) # c = (batch, T, 1)\n",
        "            c = self.relu[i](self.conv[i](c))\n",
        "            c = self.bn[i](c)\n",
        "            d_list.append(c)\n",
        "            \n",
        "        d = self.concat(d_list)\n",
        "        \n",
        "        return d # d = (batch, T, n)"
      ],
      "execution_count": 111,
      "outputs": []
    },
    {
      "cell_type": "code",
      "metadata": {
        "id": "tF9cyxpTWf16",
        "colab_type": "code",
        "colab": {}
      },
      "source": [
        "class attention(tf.keras.Model):\n",
        "  def __init__(self, units, mode=True): # input: units = T # temporal: units = n\n",
        "  # def __init__(self, units, var_scope, reuse=tf.compat.v1.AUTO_REUSE, mode=True): # input: units = T # temporal: units = n\n",
        "\n",
        "    super(attention, self).__init__()\n",
        "    self.W1 = Dense(units) # query weight\n",
        "    self.W2 = Dense(units) # key weight\n",
        "    self.V = Dense(1) \n",
        "    # self.mode = mode # True: input_attention, False: temporal_attention\n",
        "    # with tf.compat.v1.variable_scope(var_scope, reuse=reuse):\n",
        "    #     self.W1 = Dense(units) # query weight\n",
        "    #     self.W2 = Dense(units) # key weight\n",
        "    #     self.V = Dense(1) \n",
        "       \n",
        "  def input(self, key, query, value): # key = D, query = h, value = X\n",
        "    # h=(batch, 2m)\n",
        "\n",
        "    h_with_time_axis = tf.expand_dims(query, 1) # input: h_with_time_axis=(batch, 1, 2m) # temporal: h_with_time_axis=(batch, 1, 2m)\n",
        "\n",
        "    score = self.V(tf.nn.tanh(self.W1(h_with_time_axis) + self.W2(key))) # input: score=(batch, n, 1) # temporal: score=(batch, T, 1)\n",
        " \n",
        "    attention_weights = tf.nn.softmax(score, axis=1) # input: attention_weights=(batch, n, 1) # temporal: attention_weights=(batch, T, 1)\n",
        "    \n",
        "    weights = tf.transpose(attention_weights, [0,2,1])\n",
        "    value_transposed = tf.transpose(value, [0,2,1])\n",
        "\n",
        "\n",
        "    context_vector = weights * value_transposed # context_vector=(batch, n, T)\n",
        "\n",
        "    return context_vector\n",
        "\n",
        "  def temporal(self, key, query, value): # key = D, query = h, value = X\n",
        "    # h=(batch, 2m)\n",
        "\n",
        "    h_with_time_axis = tf.expand_dims(query, 1) # input: h_with_time_axis=(batch, 1, 2m) # temporal: h_with_time_axis=(batch, 1, 2m)\n",
        "\n",
        "    score = self.V(tf.nn.tanh(self.W1(h_with_time_axis) + self.W2(key))) # input: score=(batch, n, 1) # temporal: score=(batch, T, 1)\n",
        " \n",
        "    attention_weights = tf.nn.softmax(score, axis=1) # input: attention_weights=(batch, n, 1) # temporal: attention_weights=(batch, T, 1)\n",
        "\n",
        "    weights = tf.transpose(attention_weights, [0,2,1])\n",
        "    value_transposed = tf.transpose(value, [0,2,1])\n",
        "\n",
        "\n",
        "    context_vector = weights * value_transposed # context_vector=(batch, n, T)\n",
        "    context_vector = tf.reduce_sum(context_vector,axis=1) # context_vector=(batch, n)\n",
        "\n",
        "    return context_vector"
      ],
      "execution_count": 112,
      "outputs": []
    },
    {
      "cell_type": "code",
      "metadata": {
        "id": "sAVPxxHt7t_2",
        "colab_type": "code",
        "colab": {}
      },
      "source": [
        "class Two_attention(tf.keras.Model):\n",
        "  def __init__(self, T, n, hidden_dim, dynamic=True):\n",
        "    super(Two_attention, self).__init__()\n",
        "\n",
        "    self.T = T\n",
        "    self.n = n\n",
        "    self.hidden_dim = hidden_dim\n",
        "\n",
        "    # self.conv1 = cnn(n)\n",
        "    self.input_attention = attention(T) # Dense 가중치 크기 정의\n",
        "    self.temporal_attention = attention(n) # Dense 가중치 크기 정의\n",
        "    # self.input_attention = attention(T, var_scope = 'input') # Dense 가중치 크기 정의\n",
        "    # self.temporal_attention = attention(n, var_scope = 'output') # Dense 가중치 크기 정의\n",
        "    \n",
        "  def call(self, X_t, D_t, h): # X_t=(batch,T,n) # 보통 h=(batch, 2*hidden_dim) # time step이 0일때 h=(batch, 2n) # time step이 1일때 h=(batch, n+hidden_dim)\n",
        "\n",
        "    # D_t = self.conv1(X_t) # D_t=(batch, T, n)\n",
        "    # D_t = mycnn(n, X_t) # D_t=(batch, T, n)\n",
        "\n",
        "    x_bar = self.input_attention.input(D_t, h, X_t) # key, query, value # x_bar=(batch, n, T)\n",
        "    # x_bar = input(T, D, h, X) # key, query, value # x_bar=(batch, n, T)\n",
        "    # D에서 dk를 중심으로 attention (중요한 특성 선택)\n",
        "\n",
        "    x_bar_t = tf.transpose(x_bar,[0,2,1]) # x_bar_t=(batch, T, n) # temporal_attention에 넣기 위해서 뒤집기\n",
        "    \n",
        "    u = self.temporal_attention.temporal(D_t, h, x_bar_t) # key, query, value # u=(batch, n)\n",
        "    # u = temporal(n, D_t, h, x_bar_t) # key, query, value # u=(batch, n)\n",
        "    # D에서 dt를 중심으로 attention (중요한 시간 선택)\n",
        "    u = tf.expand_dims(u, axis=-1) # u=(batch, n, 1)\n",
        "    \n",
        "    return u # u=(batch, n, 1)"
      ],
      "execution_count": 30,
      "outputs": []
    },
    {
      "cell_type": "code",
      "metadata": {
        "id": "vQ0Zb0hptXzO",
        "colab_type": "code",
        "colab": {}
      },
      "source": [
        "class LSTMCell(Model):\n",
        "    def __init__(self, hidden_dim):\n",
        "        super().__init__()\n",
        "        self.hidden_dim = hidden_dim\n",
        "        self.layer_fc = layers.Dense(self.hidden_dim)\n",
        "\n",
        "    def call(self, input_x, prev_state_tuple):\n",
        "        \"\"\" Return next step's hidden state and cell state  \"\"\"\n",
        "        hidden_state_tm2, hidden_state, cell_state = prev_state_tuple\n",
        "\n",
        "        # t-2 hidden state로 t-1 hidden state 저장\n",
        "        hidden_state_tm2 = hidden_state\n",
        "    \n",
        "\n",
        "\n",
        "        # (batch_size, hidden_dim + input_dim)\n",
        "        concat_input = tf.concat([hidden_state, input_x], axis=-1)\n",
        "\n",
        "        # (batch_size * 4, hidden_dim + input_dim)\n",
        "        concat_input_tiled = tf.tile(concat_input, [4, 1])\n",
        "\n",
        "        # Equation (3) - (6) without activation\n",
        "        forget_, input_, output_, cell_bar = tf.split(self.layer_fc(concat_input_tiled),\n",
        "                                                      axis=0,\n",
        "                                                      num_or_size_splits=4)\n",
        "\n",
        "        # (batch_size, hidden_dim)\n",
        "        # Equation (6)\n",
        "        cell_state = tf.nn.sigmoid(forget_) * cell_state + \\\n",
        "                     tf.nn.sigmoid(input_) * tf.nn.tanh(cell_bar)\n",
        "\n",
        "        # Equation (7)\n",
        "        hidden_state = tf.nn.sigmoid(output_) * tf.nn.tanh(cell_state)\n",
        "\n",
        "        \n",
        "        return (hidden_state_tm2, hidden_state, cell_state)"
      ],
      "execution_count": 31,
      "outputs": []
    },
    {
      "cell_type": "code",
      "metadata": {
        "id": "YfJs-Hi8mdKX",
        "colab_type": "code",
        "colab": {}
      },
      "source": [
        "class TwoD_ALSTM(Model):\n",
        "\n",
        "  def __init__(self, n, m, T):\n",
        "    super().__init__()\n",
        "    self.m = m\n",
        "    self.Two_attention = Two_attention(T, n, m)\n",
        "    self.lstm_cell = LSTMCell(m)\n",
        "    self.i = 0\n",
        "\n",
        "\n",
        "\n",
        "  def call(self, X_t, D_t, y):\n",
        "      \"\"\"\n",
        "        D_t: (batch_size, num_steps, num_series)\n",
        "        y: (batch,T)\n",
        "      \"\"\"\n",
        "      def one_step(prev_state_tuple, current_input):\n",
        "      \n",
        "        \"\"\"\n",
        "        one time stamp in one_step\n",
        "        prev_state_tuple = hidden_state_tm2, hidden_state_tm1, cell_state\n",
        "        current_input = input_y : (1, batch_size, num)\n",
        "        \"\"\"\n",
        "\n",
        "        hidden_state_tm2, hidden_state_tm1, prev_cell_state = prev_state_tuple\n",
        "\n",
        "        # ut = (batch, n, 1)\n",
        "        ut = self.Two_attention(X_t, D_t, Concatenate()([hidden_state_tm2, hidden_state_tm1]))\n",
        "\n",
        "        # ut = (batch, 1, n)\n",
        "        ut = tf.transpose(ut, [0, 2, 1])\n",
        "\n",
        "        yt = tf.expand_dims(current_input, axis = 1) # yt = (batch, 1, 1)\n",
        "\n",
        "        # input = (batch, 1, n+1)\n",
        "        input = Concatenate(axis=2)([yt, ut]) \n",
        "        input = tf.squeeze(input, axis=1)\n",
        "\n",
        "\n",
        "        return self.lstm_cell(input, prev_state_tuple)\n",
        "\n",
        "  # Get the batch size from inputs\n",
        "      self.batch_size = tf.shape(D_t)[0]\n",
        "      self.num_steps = D_t.get_shape().as_list()[1]\n",
        "\n",
        "\n",
        "      self.init_hidden_state_tm2 = tf.random.normal([self.batch_size, self.m])\n",
        "      self.init_hidden_state_tm1 = tf.random.normal([self.batch_size, self.m])\n",
        "      self.init_cell_state = tf.random.normal([self.batch_size, self.m])\n",
        "\n",
        "      # y = (batch, T, 1)\n",
        "      y = tf.expand_dims(y, axis=2)\n",
        "      # (num_steps, batch_size, num_series) : 1 step씩 tf.scan에서 이용됨\n",
        "      inputs_y = tf.transpose(y, perm=[1, 0, 2]) \n",
        "\n",
        "\n",
        "      # use scan to run over all time steps\n",
        "      state_tuple = tf.scan(one_step,\n",
        "                            elems=inputs_y,\n",
        "                            initializer=(self.init_hidden_state_tm2,\n",
        "                                        self.init_hidden_state_tm1,\n",
        "                                        self.init_cell_state))\n",
        "\n",
        "\n",
        "\n",
        "\n",
        "      # (batch_size, num_steps, encoder_dim)\n",
        "      all_hidden_state = tf.transpose(state_tuple[0], perm=[1, 0, 2])\n",
        "      return all_hidden_state"
      ],
      "execution_count": 32,
      "outputs": []
    },
    {
      "cell_type": "code",
      "metadata": {
        "id": "VPaBgjAp8yVI",
        "colab_type": "code",
        "colab": {
          "base_uri": "https://localhost:8080/",
          "height": 883
        },
        "outputId": "9150a0cd-d811-45a9-a236-2606e6bd2933"
      },
      "source": [
        "T= 60 # 한 번에 볼 시간\n",
        "n= 4 # X 데이터의 종류\n",
        "m = 24 # LSTM cell 수, hidden_dim\n",
        "\n",
        "input_X = Input(shape=(T, n)) #stock81_padding\n",
        "input_y = Input(shape=(T)) #nasdaq\n",
        "\n",
        "input_D = cnn(n)(input_X) # input_D = (batch, T, n)\n",
        "H1 = TwoD_ALSTM(n, m, T)(input_X, input_D, input_y) # H1 = (batch, T, m)\n",
        "\n",
        "input_D_2 = cnn(m)(H1)\n",
        "H2 = TwoD_ALSTM(m, m, T)(H1, input_D_2, input_y) # H2 = (batch, T, m)\n",
        "\n",
        "input_D_3 = cnn(m)(H2)\n",
        "H3 = TwoD_ALSTM(m, m, T)(H2, input_D_3, input_y) # H3 = (batch, T, m)\n",
        "\n",
        "input_D_4 = cnn(m)(H3)\n",
        "H4 = TwoD_ALSTM(m, m, T)(H3, input_D_4, input_y) # H3 = (batch, T, m)\n",
        "\n",
        "input_D_5 = cnn(m)(H4)\n",
        "H5 = TwoD_ALSTM(m, m, T)(H4, input_D_5, input_y) # H3 = (batch, T, m)\n",
        "\n",
        "input_D_6 = cnn(m)(H5)\n",
        "H6 = TwoD_ALSTM(m, m, T)(H5, input_D_6, input_y) # H3 = (batch, T, m)\n",
        "\n",
        "\n",
        "hT = H6[:,:,-1]\n",
        "\n",
        "z = Dense(1)(hT)\n",
        "\n",
        "model = Model(inputs=[input_X, input_y], outputs=z)\n",
        "model.summary()\n",
        "\n",
        "# T=15 # 한 번에 볼 시간\n",
        "# n=10 # X 데이터의 종류\n",
        "# m = 24 # LSTM cell 수, hidden_dim\n",
        "\n",
        "# X_t = Input(shape=(T, n))\n",
        "# y = Input(shape=(T)) #Kospi\n",
        "\n",
        "# H0 = TwoD_ALSTM3(X_t, y, T, n, m) # H0 = (batch, m, T)\n",
        "# # H0_t = tf.transpose(H0, [0,2,1]) # H0_t = (batch, T, m)\n",
        "\n",
        "# H1 = TwoD_ALSTM3(H0_t, y, T, m, m) # H1 = (batch, m, T)\n",
        "# H1_t = tf.transpose(H1, [0,2,1]) # H1_t = (batch, T, m)\n",
        "\n",
        "# H2 = TwoD_ALSTM3(H1_t, y, T, m, m) # H2 = (batch, m, T)\n",
        "# hT = H2[:,:,-1] # hT = (batch, m)\n",
        "\n",
        "# z = Dense(1)(hT)\n",
        "\n",
        "# model = Model(inputs=[X_t, y], outputs=z)"
      ],
      "execution_count": 127,
      "outputs": [
        {
          "output_type": "stream",
          "text": [
            "Model: \"functional_9\"\n",
            "__________________________________________________________________________________________________\n",
            "Layer (type)                    Output Shape         Param #     Connected to                     \n",
            "==================================================================================================\n",
            "input_9 (InputLayer)            [(None, 60, 4)]      0                                            \n",
            "__________________________________________________________________________________________________\n",
            "cnn_24 (cnn)                    (None, 60, 4)        40          input_9[0][0]                    \n",
            "__________________________________________________________________________________________________\n",
            "input_10 (InputLayer)           [(None, 60)]         0                                            \n",
            "__________________________________________________________________________________________________\n",
            "two_d_alstm_24 (TwoD_ALSTM)     (None, 60, 24)       5586        input_9[0][0]                    \n",
            "                                                                 cnn_24[0][0]                     \n",
            "                                                                 input_10[0][0]                   \n",
            "__________________________________________________________________________________________________\n",
            "cnn_25 (cnn)                    (None, 60, 24)       240         two_d_alstm_24[0][0]             \n",
            "__________________________________________________________________________________________________\n",
            "two_d_alstm_25 (TwoD_ALSTM)     (None, 60, 24)       8366        two_d_alstm_24[0][0]             \n",
            "                                                                 cnn_25[0][0]                     \n",
            "                                                                 input_10[0][0]                   \n",
            "__________________________________________________________________________________________________\n",
            "cnn_26 (cnn)                    (None, 60, 24)       240         two_d_alstm_25[0][0]             \n",
            "__________________________________________________________________________________________________\n",
            "two_d_alstm_26 (TwoD_ALSTM)     (None, 60, 24)       8366        two_d_alstm_25[0][0]             \n",
            "                                                                 cnn_26[0][0]                     \n",
            "                                                                 input_10[0][0]                   \n",
            "__________________________________________________________________________________________________\n",
            "cnn_27 (cnn)                    (None, 60, 24)       240         two_d_alstm_26[0][0]             \n",
            "__________________________________________________________________________________________________\n",
            "two_d_alstm_27 (TwoD_ALSTM)     (None, 60, 24)       8366        two_d_alstm_26[0][0]             \n",
            "                                                                 cnn_27[0][0]                     \n",
            "                                                                 input_10[0][0]                   \n",
            "__________________________________________________________________________________________________\n",
            "cnn_28 (cnn)                    (None, 60, 24)       240         two_d_alstm_27[0][0]             \n",
            "__________________________________________________________________________________________________\n",
            "two_d_alstm_28 (TwoD_ALSTM)     (None, 60, 24)       8366        two_d_alstm_27[0][0]             \n",
            "                                                                 cnn_28[0][0]                     \n",
            "                                                                 input_10[0][0]                   \n",
            "__________________________________________________________________________________________________\n",
            "cnn_29 (cnn)                    (None, 60, 24)       240         two_d_alstm_28[0][0]             \n",
            "__________________________________________________________________________________________________\n",
            "two_d_alstm_29 (TwoD_ALSTM)     (None, 60, 24)       8366        two_d_alstm_28[0][0]             \n",
            "                                                                 cnn_29[0][0]                     \n",
            "                                                                 input_10[0][0]                   \n",
            "__________________________________________________________________________________________________\n",
            "tf_op_layer_strided_slice_4 (Te [(None, 60)]         0           two_d_alstm_29[0][0]             \n",
            "__________________________________________________________________________________________________\n",
            "dense_214 (Dense)               (None, 1)            61          tf_op_layer_strided_slice_4[0][0]\n",
            "==================================================================================================\n",
            "Total params: 48,717\n",
            "Trainable params: 48,469\n",
            "Non-trainable params: 248\n",
            "__________________________________________________________________________________________________\n"
          ],
          "name": "stdout"
        }
      ]
    },
    {
      "cell_type": "code",
      "metadata": {
        "id": "v9k4oxjBQJSM",
        "colab_type": "code",
        "colab": {}
      },
      "source": [
        "from keras import backend as K\n",
        "from keras.callbacks import EarlyStopping\n",
        "from keras.metrics import MeanAbsoluteError\n",
        "from keras.metrics import MeanAbsolutePercentageError\n",
        "from keras.metrics import RootMeanSquaredError\n",
        "\n",
        "\n",
        "def root_mean_squared_error(y_true, y_pred):\n",
        "        return K.sqrt(K.mean(K.square(y_pred - y_true))) \n",
        "\n",
        "\n",
        "early_stopping = EarlyStopping(monitor='val_loss', min_delta=0, patience=5, verbose=0, mode='auto')\n"
      ],
      "execution_count": 34,
      "outputs": []
    },
    {
      "cell_type": "code",
      "metadata": {
        "id": "VUuzoBxmR4Av",
        "colab_type": "code",
        "colab": {
          "base_uri": "https://localhost:8080/",
          "height": 350
        },
        "outputId": "a0fb5799-4d84-4e6a-c8e0-c89bb22bae39"
      },
      "source": [
        "\n",
        "opt = optimizers.Adam(learning_rate=0.01)\n",
        "# model.compile(loss='mse', optimizer=opt, metrics=[RootMeanSquaredError(name='rmse')])\n",
        "model.compile(loss=root_mean_squared_error, optimizer=opt, metrics=[root_mean_squared_error, 'mae', 'mape'])\n",
        "# model.compile(loss=mean_squared_error, optimizer='adam') \n",
        "\n",
        "# hist = model.fit([X_train, y_train], z_train, epochs = 200, batch_size = 1024, verbose =1, validation_data=([X_val, y_val], z_val), callbacks=[early_stopping])\n",
        "hist = model.fit([X_train, y_train], z_train, epochs = 200, batch_size = 1024, verbose =1, validation_split=0.1, callbacks=[early_stopping])\n",
        "\n",
        "# hist = model.fit([X_train, y_train], z_train, epochs = 30, batch_size = 1024, verbose =1, validation_data=([X_val, y_val], z_val))\n"
      ],
      "execution_count": 155,
      "outputs": [
        {
          "output_type": "stream",
          "text": [
            "Epoch 1/200\n",
            "77/77 [==============================] - 187s 2s/step - loss: 0.0447 - root_mean_squared_error: 0.0445 - mae: 0.0378 - mape: 833.9774 - val_loss: 0.0071 - val_root_mean_squared_error: 0.0070 - val_mae: 0.0056 - val_mape: 1.6932\n",
            "Epoch 2/200\n",
            "77/77 [==============================] - 178s 2s/step - loss: 0.0081 - root_mean_squared_error: 0.0081 - mae: 0.0062 - mape: 583.0407 - val_loss: 0.0060 - val_root_mean_squared_error: 0.0059 - val_mae: 0.0044 - val_mape: 1.3377\n",
            "Epoch 3/200\n",
            "77/77 [==============================] - 175s 2s/step - loss: 0.0073 - root_mean_squared_error: 0.0073 - mae: 0.0057 - mape: 307.1921 - val_loss: 0.0066 - val_root_mean_squared_error: 0.0065 - val_mae: 0.0051 - val_mape: 1.5541\n",
            "Epoch 4/200\n",
            "77/77 [==============================] - 174s 2s/step - loss: 0.0071 - root_mean_squared_error: 0.0070 - mae: 0.0053 - mape: 244.2402 - val_loss: 0.0062 - val_root_mean_squared_error: 0.0060 - val_mae: 0.0046 - val_mape: 1.3924\n",
            "Epoch 5/200\n",
            "77/77 [==============================] - 173s 2s/step - loss: 0.0070 - root_mean_squared_error: 0.0070 - mae: 0.0053 - mape: 249.7215 - val_loss: 0.0056 - val_root_mean_squared_error: 0.0054 - val_mae: 0.0039 - val_mape: 1.1894\n",
            "Epoch 6/200\n",
            "77/77 [==============================] - 174s 2s/step - loss: 0.0068 - root_mean_squared_error: 0.0068 - mae: 0.0052 - mape: 261.3628 - val_loss: 0.0059 - val_root_mean_squared_error: 0.0057 - val_mae: 0.0043 - val_mape: 1.2740\n",
            "Epoch 7/200\n",
            "77/77 [==============================] - 174s 2s/step - loss: 0.0067 - root_mean_squared_error: 0.0067 - mae: 0.0051 - mape: 256.4908 - val_loss: 0.0081 - val_root_mean_squared_error: 0.0080 - val_mae: 0.0069 - val_mape: 2.0948\n",
            "Epoch 8/200\n",
            "77/77 [==============================] - 173s 2s/step - loss: 0.0066 - root_mean_squared_error: 0.0066 - mae: 0.0050 - mape: 249.1624 - val_loss: 0.0146 - val_root_mean_squared_error: 0.0144 - val_mae: 0.0062 - val_mape: 1.8751\n",
            "Epoch 9/200\n",
            "77/77 [==============================] - 176s 2s/step - loss: 0.0064 - root_mean_squared_error: 0.0064 - mae: 0.0051 - mape: 213.4911 - val_loss: 0.0131 - val_root_mean_squared_error: 0.0129 - val_mae: 0.0082 - val_mape: 2.5471\n",
            "Epoch 10/200\n",
            "77/77 [==============================] - 173s 2s/step - loss: 0.0063 - root_mean_squared_error: 0.0063 - mae: 0.0049 - mape: 56.9907 - val_loss: 0.0074 - val_root_mean_squared_error: 0.0072 - val_mae: 0.0061 - val_mape: 1.8790\n"
          ],
          "name": "stdout"
        }
      ]
    },
    {
      "cell_type": "code",
      "metadata": {
        "id": "9RC68nqVskXz",
        "colab_type": "code",
        "colab": {
          "base_uri": "https://localhost:8080/",
          "height": 300
        },
        "outputId": "d6dc2907-f72c-4298-e36c-d2a114d9fc0b"
      },
      "source": [
        "%matplotlib inline\n",
        "import matplotlib.pyplot as plt\n",
        "\n",
        "fig, loss_ax = plt.subplots()\n",
        "\n",
        "acc_ax = loss_ax.twinx()\n",
        "\n",
        "loss_ax.plot(hist.history['val_loss'], 'r', label='val loss')\n",
        "\n",
        "\n",
        "loss_ax.set_xlabel('epoch')\n",
        "loss_ax.set_ylabel('loss')\n",
        "acc_ax.set_ylabel('accuray')\n",
        "\n",
        "loss_ax.legend(loc='upper left')\n",
        "acc_ax.legend(loc='lower left')\n",
        "\n",
        "plt.show()"
      ],
      "execution_count": 156,
      "outputs": [
        {
          "output_type": "stream",
          "text": [
            "No handles with labels found to put in legend.\n"
          ],
          "name": "stderr"
        },
        {
          "output_type": "display_data",
          "data": {
            "image/png": "[encoded data removed]",
            "text/plain": [
              "<Figure size 432x288 with 2 Axes>"
            ]
          },
          "metadata": {
            "tags": [],
            "needs_background": "light"
          }
        }
      ]
    },
    {
      "cell_type": "code",
      "metadata": {
        "id": "C667i55LAAh4",
        "colab_type": "code",
        "colab": {
          "base_uri": "https://localhost:8080/",
          "height": 300
        },
        "outputId": "17e6eb8a-d1ce-42fd-e0c5-3b99d280586a"
      },
      "source": [
        "%matplotlib inline\n",
        "import matplotlib.pyplot as plt\n",
        "\n",
        "fig, loss_ax = plt.subplots()\n",
        "\n",
        "acc_ax = loss_ax.twinx()\n",
        "\n",
        "loss_ax.plot(hist.history['val_loss'], 'r', label='val loss')\n",
        "\n",
        "\n",
        "loss_ax.set_xlabel('epoch')\n",
        "loss_ax.set_ylabel('loss')\n",
        "acc_ax.set_ylabel('accuray')\n",
        "\n",
        "loss_ax.legend(loc='upper left')\n",
        "acc_ax.legend(loc='lower left')\n",
        "\n",
        "plt.show()"
      ],
      "execution_count": 157,
      "outputs": [
        {
          "output_type": "stream",
          "text": [
            "No handles with labels found to put in legend.\n"
          ],
          "name": "stderr"
        },
        {
          "output_type": "display_data",
          "data": {
            "image/png": "[encoded data removed]",
            "text/plain": [
              "<Figure size 432x288 with 2 Axes>"
            ]
          },
          "metadata": {
            "tags": [],
            "needs_background": "light"
          }
        }
      ]
    },
    {
      "cell_type": "code",
      "metadata": {
        "id": "hM0PNP8feSMX",
        "colab_type": "code",
        "colab": {
          "base_uri": "https://localhost:8080/",
          "height": 33
        },
        "outputId": "bdbcdc38-67ba-41b7-887b-491901f96a48"
      },
      "source": [
        "loss = model.evaluate([X_test, y_test], z_test, batch_size=1024)"
      ],
      "execution_count": 158,
      "outputs": [
        {
          "output_type": "stream",
          "text": [
            "9/9 [==============================] - 6s 696ms/step - loss: 0.0080 - root_mean_squared_error: 0.0079 - mae: 0.0062 - mape: 1.6169\n"
          ],
          "name": "stdout"
        }
      ]
    },
    {
      "cell_type": "code",
      "metadata": {
        "id": "yHDNq8_oACbS",
        "colab_type": "code",
        "colab": {
          "base_uri": "https://localhost:8080/"
        },
        "outputId": "910c9a6f-0b5e-4570-ef77-0edc729a4864"
      },
      "source": [
        "loss = model.evaluate([X_test, y_test], z_test, batch_size=1024)"
      ],
      "execution_count": null,
      "outputs": [
        {
          "output_type": "stream",
          "text": [
            "6/6 [==============================] - 1s 156ms/step - loss: 0.0640 - root_mean_squared_error: 0.0647\n"
          ],
          "name": "stdout"
        }
      ]
    },
    {
      "cell_type": "code",
      "metadata": {
        "id": "gET_tCLacu5y",
        "colab_type": "code",
        "colab": {}
      },
      "source": [
        "y_predict = model.predict([X_test, y_test])"
      ],
      "execution_count": 159,
      "outputs": []
    },
    {
      "cell_type": "code",
      "metadata": {
        "id": "qu-izgqF2-K3",
        "colab_type": "code",
        "colab": {
          "base_uri": "https://localhost:8080/",
          "height": 33
        },
        "outputId": "8acfa01d-0cfd-4666-e942-d4e615a421ca"
      },
      "source": [
        "y_predict.shape"
      ],
      "execution_count": 160,
      "outputs": [
        {
          "output_type": "execute_result",
          "data": {
            "text/plain": [
              "(8684, 1)"
            ]
          },
          "metadata": {
            "tags": []
          },
          "execution_count": 160
        }
      ]
    },
    {
      "cell_type": "code",
      "metadata": {
        "id": "73-t2z9Y9PLa",
        "colab_type": "code",
        "colab": {
          "base_uri": "https://localhost:8080/",
          "height": 351
        },
        "outputId": "5e7566e6-65dc-4bd6-8c6d-798c12242d1c"
      },
      "source": [
        "plt.figure(figsize = (15, 5))\n",
        "plt.plot(z_test[400 :800], color='black', label='test')\n",
        "plt.plot(y_predict[400 :800], color='red', label='prediction')\n",
        "\n",
        "# plt.title('Train set')\n",
        "plt.xlabel('time')\n",
        "plt.ylabel('normalized price')\n",
        "plt.legend(loc='best')"
      ],
      "execution_count": 161,
      "outputs": [
        {
          "output_type": "execute_result",
          "data": {
            "text/plain": [
              "<matplotlib.legend.Legend at 0x7f0850cd9588>"
            ]
          },
          "metadata": {
            "tags": []
          },
          "execution_count": 161
        },
        {
          "output_type": "display_data",
          "data": {
            "image/png": "[encoded data removed]",
            "text/plain": [
              "<Figure size 1080x360 with 1 Axes>"
            ]
          },
          "metadata": {
            "tags": [],
            "needs_background": "light"
          }
        }
      ]
    },
    {
      "cell_type": "code",
      "metadata": {
        "id": "ywP92t1mWstb",
        "colab_type": "code",
        "colab": {}
      },
      "source": [
        "test_ = scaler.transform(test_)\n",
        "X_test, y_test, z_test = split_data(test_)\n",
        "\n",
        "y_pred = model.predict([X_train, y_train])"
      ],
      "execution_count": null,
      "outputs": []
    },
    {
      "cell_type": "code",
      "metadata": {
        "id": "c7ixTXmI9KgS",
        "colab_type": "code",
        "colab": {
          "base_uri": "https://localhost:8080/",
          "height": 140
        },
        "outputId": "ffe2eec1-e2d2-4b68-b791-dff1fc59504a"
      },
      "source": [
        "print(y_predict)"
      ],
      "execution_count": null,
      "outputs": [
        {
          "output_type": "stream",
          "text": [
            "[[0.21179795]\n",
            " [0.21611571]\n",
            " [0.20782657]\n",
            " ...\n",
            " [0.32075447]\n",
            " [0.31915945]\n",
            " [0.32630807]]\n"
          ],
          "name": "stdout"
        }
      ]
    },
    {
      "cell_type": "code",
      "metadata": {
        "id": "wwX2cTejdNJg",
        "colab_type": "code",
        "colab": {}
      },
      "source": [
        "class Evaluation():\n",
        "  def Prediction(self, pred, true):\n",
        "    if pred.ndim == 2: # predict_y = (batch, 1)\n",
        "      pred = pred[np.newaxis, :, :]\n",
        "      true = true[np.newaxis, :, :]\n",
        "\n",
        "    rmsre = np.zeros(pred.shape[0])\n",
        "    dpa = np.zeros(pred.shape[0])\n",
        "    n = np.zeros(pred.shape[0])\n",
        "\n",
        "    for i in range(pred.shape[0]): # day\n",
        "      for j in range(pred.shape[1]): # batch\n",
        "        if true[i, j, 0] != 0:\n",
        "          rmsre[i] = rmsre[i] + np.square((pred[i, j, 0] - true[i, j, 0])/true[i, j, 0])\n",
        "        \n",
        "        if np.abs(true[i, j, 0]) >= 0.002:\n",
        "          n[i] += 1\n",
        "          dpa[i] = dpa[i] + tf.where(tf.math.multiply_no_nan(pred[i, j, 0], true[i, j, 0]) > 0, 1, 0)  \n",
        "    \n",
        "    return np.sqrt(rmsre/pred.shape[1]), dpa/n*100\n",
        "\n",
        "  def Classification(self, pred, true):\n",
        "    if pred.ndim == 2: # predict_y = (batch, 1)\n",
        "      pred = pred[np.newaxis, :, :]\n",
        "      true = true[np.newaxis, :, :]\n",
        "      \n",
        "    count = np.zeros(pred.shape[0])\n",
        "    for i in range(pred.shape[0]): # day\n",
        "      for j in range(pred.shape[1]): # batch\n",
        "        if pred[i, j, 0] == true[i, j, 0]:\n",
        "          count[i] += 1  \n",
        "    \n",
        "    return count/pred.shape[1]*100  "
      ],
      "execution_count": null,
      "outputs": []
    },
    {
      "cell_type": "code",
      "metadata": {
        "id": "7Gq-CuPueSLg",
        "colab_type": "code",
        "colab": {}
      },
      "source": [
        "# 모델 불러올거면 사용\n",
        "model = tf.keras.models.load_model('/content/gdrive/My Drive/AI_Trader/conv1d_lstm.h5') ##############모델불러오기\n",
        "model.compile(optimizer='adam',\n",
        "              loss='sparse_categorical_crossentropy',\n",
        "              metrics=['accuracy'],\n",
        "              )\n",
        "model.summary()"
      ],
      "execution_count": null,
      "outputs": []
    },
    {
      "cell_type": "markdown",
      "metadata": {
        "id": "1VlcLCIuzjJY",
        "colab_type": "text"
      },
      "source": [
        "# 회귀"
      ]
    },
    {
      "cell_type": "code",
      "metadata": {
        "id": "GVRNg08metgy",
        "colab_type": "code",
        "colab": {}
      },
      "source": [
        "predict_y = model.predict(test_x) # predict_y = (batch, 1)\n",
        "\n",
        "predict13_y = [] \n",
        "for i in range(day13_x.shape[0]):\n",
        "  predict13_y.append(model.predict(day13_x[i]))\n",
        "predict13_y = np.array(predict13_y) # predict13_y = (day(13), batch, 1)\n",
        "\n",
        "evaluation = Evaluation()\n",
        "rmsre_P, dpa_P = evaluation.Prediction(predict_y, test_y) # 회귀 (전일 대비 수익률)\n",
        "rmsre13_P, dpa13_P = evaluation.Prediction(predict13_y, day13_y)"
      ],
      "execution_count": null,
      "outputs": []
    },
    {
      "cell_type": "code",
      "metadata": {
        "id": "w1yG64sEyA8J",
        "colab_type": "code",
        "colab": {}
      },
      "source": [
        "print('<<7월>>')\n",
        "print('7월 rmsre :', round(rmsre_P[0], 3))\n",
        "print('7월 dpa :', round(dpa_P[0], 3), '%')\n",
        "\n",
        "print('\\n<<8월>>')\n",
        "for i in range(day13_x.shape[0]):\n",
        "  print(i+1, '일 rmsre :', round(rmsre13_P[i], 3), ' dpa :', round(dpa13_P[i], 3), '%')"
      ],
      "execution_count": null,
      "outputs": []
    },
    {
      "cell_type": "markdown",
      "metadata": {
        "id": "DvwOuKwjzm6D",
        "colab_type": "text"
      },
      "source": [
        "# 분류"
      ]
    },
    {
      "cell_type": "code",
      "metadata": {
        "id": "XpDqz7CWyCQF",
        "colab_type": "code",
        "colab": {}
      },
      "source": [
        "predict_y = np.argmax(model.predict(test_x), axis = -1) # one_hot_encoding을 숫자로 변환\n",
        "predict_y = predict_y[:, np.newaxis] # predict_y = (batch, 1)\n",
        "\n",
        "predict13_y = [] \n",
        "for i in range(day13_x.shape[0]):\n",
        "  predict13_y.append(np.argmax(model.predict(day13_x[i]), axis = -1)) # one_hot_encoding을 숫자로 변환\n",
        "predict13_y = np.array(predict13_y) \n",
        "predict13_y = predict13_y[:, :, np.newaxis] # predict13_y = (day(13), batch, 1)\n",
        "\n",
        "evaluation = Evaluation()\n",
        "accuracy_C = evaluation.Classification(predict_y, test_y) # 분류\n",
        "accuracy13_C = evaluation.Classification(predict13_y, day13_y)"
      ],
      "execution_count": null,
      "outputs": []
    },
    {
      "cell_type": "code",
      "metadata": {
        "id": "K7Bi1aCLzu5D",
        "colab_type": "code",
        "colab": {}
      },
      "source": [
        "print('<<7월>>')\n",
        "print('7월 정확도 :', round(accuracy_C[0], 3), '%')\n",
        "\n",
        "print('\\n<<8월>>')\n",
        "for i in range(day13_x.shape[0]):\n",
        "  print(i+1, '일 정확도 :',  round(accuracy13_C[i], 3), '%')"
      ],
      "execution_count": null,
      "outputs": []
    },
    {
      "cell_type": "markdown",
      "metadata": {
        "id": "wtViqySU4AqA",
        "colab_type": "text"
      },
      "source": [
        "# 시각화\n"
      ]
    },
    {
      "cell_type": "code",
      "metadata": {
        "id": "DwegVjH44DPP",
        "colab_type": "code",
        "colab": {}
      },
      "source": [
        "################################ 시각화 ###################################\n",
        "######시각화는 8월의 13일만 보여줌\n",
        "df = pd.read_csv('/content/gdrive/My Drive/5개 데이터 전처리/현대차_train_modi.csv')    #현대차\n",
        "#df = pd.read_csv('/content/gdrive/My Drive/5개 데이터 전처리/카카오_train_modi.csv')   #카카오\n",
        "#df = pd.read_csv('/content/gdrive/My Drive/5개 데이터 전처리/kodex200_train_modi.csv') #코스피\n",
        "df = df.drop('Unnamed: 0',1)\n",
        "\n",
        "temp = list(df['날짜'])\n",
        "df3 = df.iloc[temp.index(20200803.0):] #.csv에서 20200803~ 데이터 추리기 // 약 13일정도 -> 일일 평가 위해서\n",
        "\n",
        "day_size = 40 #몇 분봉 볼건지\n",
        "pre_size = 3 #얼마나 예측할지\n",
        "def 종가추출(df): \n",
        "  x=[]\n",
        "  x2=[]\n",
        "  #################### (수정해서 사용)###################\n",
        "  for i in range(len(df)):  #데이터 전처리 방식과 동일하게 종가를 추출해줘야함\n",
        "    temp = df.iloc[i+day_size-1].values.tolist() ############# input의 마지막 종가 불러오기\n",
        "    x.append(temp[5]) #temp[5]가 종가\n",
        "  #######################################################\n",
        "  x2 = np.array(x2)\n",
        "  return x2  #shape (13,~)로 나오면됨\n",
        "\n",
        "price = 종가추출(df3) # 함수알아서 고치기 /df3 = df.iloc[temp.index(20200803.0):]\n",
        "print(price.shape)\n",
        "print(predict13_y.shape)\n",
        "#shape이 같게 나와야함!"
      ],
      "execution_count": null,
      "outputs": []
    },
    {
      "cell_type": "code",
      "metadata": {
        "id": "UlpSp0_W4j9p",
        "colab_type": "code",
        "colab": {}
      },
      "source": [
        "# 13일 데이터 하루하루 그래프 시각화\n",
        "for i in range(len(price)): #13일치 shape(13,~)\n",
        "  x = []\n",
        "  y = []\n",
        "  x2 = []\n",
        "  y2 = []\n",
        "  for j in range(len(price[i])): #하루치\n",
        "    x.append(j) #index \n",
        "    y.append(price[i][j]) #종가저장\n",
        "\n",
        "    #if day13_y[i][j][0]>0.5:  # <-실제 라벨 상승신호 시각화\n",
        "    if predict13_y[i][j][0]>0.5: ########################## threshold 설정하기 \n",
        "      x2.append(j) #index\n",
        "      y2.append(price[i][j]) #상승신호 나온 종가 저장\n",
        "      \n",
        "  print(i+1,'일')\n",
        "  plt.figure(figsize=(20,5))\n",
        "  plt.plot(x,y)\n",
        "  plt.scatter(x2,y2,c='r')\n",
        "  plt.show()"
      ],
      "execution_count": null,
      "outputs": []
    }
  ]
}