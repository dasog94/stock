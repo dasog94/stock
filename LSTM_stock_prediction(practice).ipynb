{
  "nbformat": 4,
  "nbformat_minor": 0,
  "metadata": {
    "colab": {
      "name": "LSTM stock prediction(practice).ipynb",
      "provenance": [],
      "authorship_tag": "ABX9TyPIv7jptDoySS5+HTEV3bBi",
      "include_colab_link": true
    },
    "kernelspec": {
      "name": "python3",
      "display_name": "Python 3"
    },
    "accelerator": "GPU"
  },
  "cells": [
    {
      "cell_type": "markdown",
      "metadata": {
        "id": "view-in-github",
        "colab_type": "text"
      },
      "source": [
        "<a href=\"https://colab.research.google.com/github/dasog94/stock/blob/master/LSTM_stock_prediction(practice).ipynb\" target=\"_parent\"><img src=\"https://colab.research.google.com/assets/colab-badge.svg\" alt=\"Open In Colab\"/></a>"
      ]
    },
    {
      "cell_type": "code",
      "metadata": {
        "id": "_SYUeq9V2MyY",
        "colab_type": "code",
        "colab": {}
      },
      "source": [
        "from keras.layers.core import Dense, Activation, Dropout\n",
        "from keras.layers.recurrent import LSTM\n",
        "from keras.models import Sequential\n",
        "import time"
      ],
      "execution_count": 0,
      "outputs": []
    },
    {
      "cell_type": "code",
      "metadata": {
        "id": "YcgX8mky5nGT",
        "colab_type": "code",
        "colab": {}
      },
      "source": [
        "#lstm.py\n",
        "\n",
        "import warnings\n",
        "import numpy as np\n",
        "from numpy import newaxis\n",
        "import matplotlib.pyplot as plt\n",
        "\n",
        "warnings.filterwarnings(action=\"ignore\")\n",
        "\n",
        "def load_data(filename, seq_len, normalise_window):\n",
        "  f = open(filename, 'r').read()\n",
        "  data = f.split('\\n')\n",
        "\n",
        "  sequence_length = seq_len + 1\n",
        "  result = []\n",
        "  for index in range(len(data) - sequence_length):\n",
        "    result.append(data[index: index + sequence_length])\n",
        "\n",
        "  if normalise_window:\n",
        "    result = normalise_windows(result)\n",
        "\n",
        "  result = np.array(result)\n",
        "\n",
        "  row = round(0.9 * result.shape[0])\n",
        "  train = result[:int(row), :]\n",
        "  np.random.shuffle(train)\n",
        "  x_train = train[:, :-1]\n",
        "  y_train = train[:, -1]\n",
        "  x_test = result[int(row):, :-1]\n",
        "  y_test = result[int(row):, -1]\n",
        "\n",
        "  x_train = np.reshape(x_train, (x_train.shape[0], x_train.shape[1], 1))\n",
        "  x_test = np.reshape(x_test, (x_test.shape[0], x_test.shape[1], 1))\n",
        "\n",
        "  return [x_train, y_train, x_test, y_test]\n",
        "\n",
        "def normalise_windows(window_data):\n",
        "  normalised_data = []\n",
        "  for window in window_data:\n",
        "    normalise_window = [((float(p) / float(window[0])) - 1) for p in window]\n",
        "    normalised_data.append(normalise_window)\n",
        "  return normalised_data\n",
        "\n",
        "def predict_sequences_multiple(model, data, window_size, prediction_len):\n",
        "    prediction_seqs = []\n",
        "    for i in range((int)(len(data)/prediction_len)):\n",
        "      curr_frame = data[i*prediction_len]\n",
        "      predicted = []\n",
        "      for j in range(prediction_len):\n",
        "        predicted.append(model.predict(curr_frame[newaxis,:,:])[0,0])\n",
        "        curr_frame = curr_frame[1:]\n",
        "        curr_frame = np.insert(curr_frame, [window_size-1], predicted[-1], axis=0)\n",
        "      prediction_seqs.append(predicted)\n",
        "    return prediction_seqs\n",
        "\n",
        "def plot_results_multiple(predicted_data, true_data, prediction_len):\n",
        "  fig = plt.figure(facecolor='white')\n",
        "  ax = fig.add_subplot(111)\n",
        "  ax.plot(true_data, label='True Data')\n",
        "  print('yo') \n",
        "  #Pad the list of predictions to shift it in the graph to it's correct start\n",
        "  for i, data in enumerate(predicted_data):\n",
        "      padding = [None for p in range(i * prediction_len)]\n",
        "      plt.plot(padding + data, label='Prediction')\n",
        "      plt.legend()\n",
        "  plt.show()\n",
        "\n",
        "\n"
      ],
      "execution_count": 0,
      "outputs": []
    },
    {
      "cell_type": "code",
      "metadata": {
        "id": "DL_GF9GnTE2y",
        "colab_type": "code",
        "outputId": "be95759e-8bd0-4452-9126-d2a2005b72fd",
        "colab": {
          "base_uri": "https://localhost:8080/",
          "height": 899
        }
      },
      "source": [
        "#1단계: 데이터 불러오기\n",
        "X_train, y_train, X_test, y_test = load_data('sp500.csv', 50, True)\n",
        "#데이터 확인\n",
        "print(X_train)"
      ],
      "execution_count": 0,
      "outputs": [
        {
          "output_type": "stream",
          "text": [
            "[[[ 0.        ]\n",
            "  [ 0.00385103]\n",
            "  [ 0.00402758]\n",
            "  ...\n",
            "  [ 0.04577555]\n",
            "  [ 0.03775396]\n",
            "  [ 0.03873768]]\n",
            "\n",
            " [[ 0.        ]\n",
            "  [ 0.00583628]\n",
            "  [ 0.00610128]\n",
            "  ...\n",
            "  [ 0.03499438]\n",
            "  [ 0.03310085]\n",
            "  [ 0.03822812]]\n",
            "\n",
            " [[ 0.        ]\n",
            "  [ 0.0092607 ]\n",
            "  [ 0.00693538]\n",
            "  ...\n",
            "  [ 0.01506737]\n",
            "  [ 0.02421246]\n",
            "  [ 0.02378409]]\n",
            "\n",
            " ...\n",
            "\n",
            " [[ 0.        ]\n",
            "  [ 0.00141705]\n",
            "  [-0.0030649 ]\n",
            "  ...\n",
            "  [ 0.00960071]\n",
            "  [ 0.02342868]\n",
            "  [ 0.03127017]]\n",
            "\n",
            " [[ 0.        ]\n",
            "  [ 0.00313496]\n",
            "  [ 0.00523421]\n",
            "  ...\n",
            "  [-0.04842273]\n",
            "  [-0.02952245]\n",
            "  [-0.02887865]]\n",
            "\n",
            " [[ 0.        ]\n",
            "  [-0.00276329]\n",
            "  [ 0.01683672]\n",
            "  ...\n",
            "  [-0.06702946]\n",
            "  [-0.05360813]\n",
            "  [-0.0398607 ]]]\n"
          ],
          "name": "stdout"
        }
      ]
    },
    {
      "cell_type": "code",
      "metadata": {
        "id": "610mgCCVUY9l",
        "colab_type": "code",
        "outputId": "5c1a3572-c54f-45c0-820d-dcadcffaa699",
        "colab": {
          "base_uri": "https://localhost:8080/",
          "height": 35
        }
      },
      "source": [
        "#2단계 : 모델\n",
        "  model = Sequential()\n",
        "\n",
        "  model.add(LSTM(\n",
        "      input_dim = 1,\n",
        "      output_dim = 50,\n",
        "      return_sequences=True))\n",
        "  model.add(Dropout(0.2))\n",
        "\n",
        "  model.add(LSTM(\n",
        "      100,\n",
        "      return_sequences=False))\n",
        "  model.add(Dropout(0.2))\n",
        "\n",
        "  model.add(Dense(\n",
        "      output_dim=1))\n",
        "  model.add(Activation(\"linear\"))\n",
        "\n",
        "  start = time.time()\n",
        "  model.compile(loss=\"mse\", optimizer=\"rmsprop\")\n",
        "  print(\"Compilation Time : \", time.time() - start)"
      ],
      "execution_count": 0,
      "outputs": [
        {
          "output_type": "stream",
          "text": [
            "Compilation Time :  0.015399694442749023\n"
          ],
          "name": "stdout"
        }
      ]
    },
    {
      "cell_type": "code",
      "metadata": {
        "id": "Lzfjp8NPW0P0",
        "colab_type": "code",
        "outputId": "8a27e7ec-50da-4691-8859-c234503214cf",
        "colab": {
          "base_uri": "https://localhost:8080/",
          "height": 791
        }
      },
      "source": [
        "model.fit(\n",
        "    X_train,\n",
        "    y_train,\n",
        "    batch_size=10,\n",
        "    nb_epoch = 50,\n",
        "    validation_split = 0.05\n",
        ")"
      ],
      "execution_count": 0,
      "outputs": [
        {
          "output_type": "stream",
          "text": [
            "Train on 3523 samples, validate on 186 samples\n",
            "Epoch 1/50\n",
            "3523/3523 [==============================] - 89s 25ms/step - loss: 5.7711e-04 - val_loss: 6.8514e-04\n",
            "Epoch 2/50\n",
            "3523/3523 [==============================] - 87s 25ms/step - loss: 3.7985e-04 - val_loss: 4.3921e-04\n",
            "Epoch 3/50\n",
            "3523/3523 [==============================] - 87s 25ms/step - loss: 3.1363e-04 - val_loss: 1.7628e-04\n",
            "Epoch 4/50\n",
            "3523/3523 [==============================] - 87s 25ms/step - loss: 2.7627e-04 - val_loss: 1.7783e-04\n",
            "Epoch 5/50\n",
            "3523/3523 [==============================] - 90s 25ms/step - loss: 2.6677e-04 - val_loss: 1.6793e-04\n",
            "Epoch 6/50\n",
            "3523/3523 [==============================] - 87s 25ms/step - loss: 2.5159e-04 - val_loss: 1.6222e-04\n",
            "Epoch 7/50\n",
            "3523/3523 [==============================] - 86s 24ms/step - loss: 2.4796e-04 - val_loss: 1.3839e-04\n",
            "Epoch 8/50\n",
            "3523/3523 [==============================] - 86s 25ms/step - loss: 2.4397e-04 - val_loss: 2.0368e-04\n",
            "Epoch 9/50\n",
            "3523/3523 [==============================] - 88s 25ms/step - loss: 2.3315e-04 - val_loss: 2.3640e-04\n",
            "Epoch 10/50\n",
            "3523/3523 [==============================] - 88s 25ms/step - loss: 2.4123e-04 - val_loss: 2.4329e-04\n",
            "Epoch 11/50\n",
            "3523/3523 [==============================] - 88s 25ms/step - loss: 2.2791e-04 - val_loss: 1.2996e-04\n",
            "Epoch 12/50\n",
            "3523/3523 [==============================] - 87s 25ms/step - loss: 2.3538e-04 - val_loss: 2.0286e-04\n",
            "Epoch 13/50\n",
            "3523/3523 [==============================] - 88s 25ms/step - loss: 2.3595e-04 - val_loss: 1.3104e-04\n",
            "Epoch 14/50\n",
            "3523/3523 [==============================] - 87s 25ms/step - loss: 2.1446e-04 - val_loss: 1.3167e-04\n",
            "Epoch 15/50\n",
            "3523/3523 [==============================] - 87s 25ms/step - loss: 2.2121e-04 - val_loss: 1.3206e-04\n",
            "Epoch 16/50\n",
            "3523/3523 [==============================] - 85s 24ms/step - loss: 2.2177e-04 - val_loss: 2.5762e-04\n",
            "Epoch 17/50\n",
            "3523/3523 [==============================] - 85s 24ms/step - loss: 2.2290e-04 - val_loss: 1.8052e-04\n",
            "Epoch 18/50\n",
            "3523/3523 [==============================] - 87s 25ms/step - loss: 2.2062e-04 - val_loss: 1.9694e-04\n",
            "Epoch 19/50\n",
            "3523/3523 [==============================] - 88s 25ms/step - loss: 2.1493e-04 - val_loss: 1.3015e-04\n",
            "Epoch 20/50\n",
            "3523/3523 [==============================] - 86s 25ms/step - loss: 2.1394e-04 - val_loss: 1.4893e-04\n",
            "Epoch 21/50\n",
            "2280/3523 [==================>...........] - ETA: 30s - loss: 2.0421e-04"
          ],
          "name": "stdout"
        }
      ]
    },
    {
      "cell_type": "code",
      "metadata": {
        "id": "pzmZam3jY4zv",
        "colab_type": "code",
        "outputId": "5d1153b5-ea31-41d4-9a8e-d54b8f061431",
        "colab": {
          "base_uri": "https://localhost:8080/",
          "height": 284
        }
      },
      "source": [
        "predictions = predict_sequences_multiple(model, X_test, 50, 50)\n",
        "plot_results_multiple(predictions, y_test, 50)"
      ],
      "execution_count": 0,
      "outputs": [
        {
          "output_type": "stream",
          "text": [
            "yo\n"
          ],
          "name": "stdout"
        },
        {
          "output_type": "display_data",
          "data": {
            "image/png": "[encoded data removed]",
            "text/plain": [
              "<Figure size 432x288 with 1 Axes>"
            ]
          },
          "metadata": {
            "tags": []
          }
        }
      ]
    }
  ]
}